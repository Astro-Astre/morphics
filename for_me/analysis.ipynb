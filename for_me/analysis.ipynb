{
 "cells": [
  {
   "cell_type": "code",
   "execution_count": 2,
   "outputs": [],
   "source": [
    "import sys\n",
    "\n",
    "import matplotlib.pyplot as plt\n",
    "\n",
    "sys.path.append(\"/data/renhaoye/MorCG_DECaLS/\")\n",
    "sys.path.append(\"/data/renhaoye/MorCG_DECaLS/astre_utils/\")\n",
    "sys.path.append(\"/data/renhaoye/MorCG_DECaLS/astre_utils/catalog/\")\n",
    "sys.path.append(\"/data/renhaoye/MorCG_DECaLS/astre_utils/img/\")\n",
    "sys.path.append(\"/data/renhaoye/MorCG_DECaLS/data/\")\n",
    "sys.path.append(\"/data/renhaoye/MorCG_DECaLS/for_me/\")\n",
    "sys.path.append(\"/data/renhaoye/MorCG_DECaLS/models/\")\n",
    "sys.path.append(\"/data/renhaoye/MorCG_DECaLS/utils/\")\n",
    "sys.path.append(\"/data/renhaoye/MorCG_DECaLS/training/\")"
   ],
   "metadata": {
    "collapsed": false,
    "pycharm": {
     "name": "#%%\n"
    }
   }
  },
  {
   "cell_type": "code",
   "execution_count": 3,
   "outputs": [],
   "source": [
    "from astre_utils.catalog.match import match\n",
    "from data.utils import load_dir\n",
    "import numpy as np\n",
    "from astropy.io import fits\n",
    "import pandas as pd\n",
    "from sklearn.model_selection import train_test_split\n",
    "from utils.label_metadata import *\n",
    "from utils.schemas import *\n",
    "import os"
   ],
   "metadata": {
    "collapsed": false,
    "pycharm": {
     "name": "#%%\n"
    }
   }
  },
  {
   "cell_type": "code",
   "execution_count": 3,
   "outputs": [],
   "source": [
    "\"\"\"local files in DECaLS\"\"\"\n",
    "df_in_decals = load_dir(\"/data/renhaoye/MorCG/dataset/in_decals/raw_fits/\")\n",
    "\"\"\"local files in BASS+MzLS\"\"\"\n",
    "df_out_decals = load_dir(\"/data/renhaoye/MorCG/dataset/out_decals/scaled/\")\n",
    "\"\"\"main galaxy sample\"\"\"\n",
    "with fits.open(\"/data/renhaoye/MorCG/dataset/VAGC_MGS-m14_1777--20180116.fits\") as hdul:\n",
    "    ra = np.array(hdul[1].data[\"RA      \"])\n",
    "    dec = np.array(hdul[1].data[\"DEC     \"])\n",
    "    petro_mag = np.array(hdul[1].data[\"PETROMAG\"][:, 2])\n",
    "    model_mag = np.array(hdul[1].data[\"MODELMAG\"][:, 2])\n",
    "    fiber_mag = np.array(hdul[1].data[\"FIBERMAG\"][:, 2])\n",
    "    kcorrect = np.array(hdul[1].data[\"KCORRECT\"][:, 2])\n",
    "    z = np.array(hdul[1].data[\"Z\"])\n",
    "    zflag = np.array(hdul[1].data[\"ZFLAG\"])\n",
    "    MGS = pd.DataFrame(np.array((ra, dec, petro_mag, model_mag, fiber_mag, kcorrect, z, zflag)).T, columns=[\"ra\", \"dec\", \"petro_mag\", \"model_mag\", \"fiber_mag\", \"kcorrect\", \"z\", \"zflag\"])\n",
    "# \"\"\"overlap of DECaLS and BASS+MzLS\"\"\"\n",
    "# overlap = match(df_in_decals, df_out_decals, 2, [\"in_ra\", \"in_dec\"]).drop(columns=[\"ra\", \"dec\"]).rename(columns={\"in_ra\":\"ra\", \"in_dec\":\"dec\"})\n",
    "df_c = pd.read_csv(\"/data/renhaoye/MorCG/dataset/gz_decals_volunteers_c.csv\", index_col=0).rename(columns=lambda x: x.replace(\"-\", \"_\")).fillna(0)"
   ],
   "metadata": {
    "collapsed": false,
    "pycharm": {
     "name": "#%%\n"
    }
   }
  },
  {
   "cell_type": "code",
   "execution_count": 5,
   "outputs": [
    {
     "data": {
      "text/plain": "XTENSION= 'BINTABLE'           / binary table extension                         \nBITPIX  =                    8 / array data type                                \nNAXIS   =                    2 / number of array dimensions                     \nNAXIS1  =                  200 / length of dimension 1                          \nNAXIS2  =               746950 / length of dimension 2                          \nPCOUNT  =                    0 / number of group parameters                     \nGCOUNT  =                    1 / number of groups                               \nTFIELDS =                   10 / number of table fields                         \nTTYPE1  = 'VID     '                                                            \nTFORM1  = 'J       '                                                            \nTTYPE2  = 'RA      '                                                            \nTFORM2  = 'D       '                                                            \nTTYPE3  = 'DEC     '                                                            \nTFORM3  = 'D       '                                                            \nTTYPE4  = 'PETROMAG'                                                            \nTFORM4  = '5D      '                                                            \nTTYPE5  = 'MODELMAG'                                                            \nTFORM5  = '5D      '                                                            \nTTYPE6  = 'FIBERMAG'                                                            \nTFORM6  = '5D      '                                                            \nTTYPE7  = 'VAGC_SELECT'                                                         \nTFORM7  = 'J       '                                                            \nTTYPE8  = 'KCORRECT'                                                            \nTFORM8  = '5D      '                                                            \nTTYPE9  = 'Z       '                                                            \nTFORM9  = 'D       '                                                            \nTTYPE10 = 'ZFLAG   '                                                            \nTFORM10 = 'D       '                                                            "
     },
     "execution_count": 5,
     "metadata": {},
     "output_type": "execute_result"
    }
   ],
   "source": [
    "hdul = fits.open(\"/data/renhaoye/MorCG/dataset/VAGC_MGS-m14_1777--20180116.fits\")\n",
    "hdul[1].header"
   ],
   "metadata": {
    "collapsed": false,
    "pycharm": {
     "name": "#%%\n"
    }
   }
  },
  {
   "cell_type": "code",
   "execution_count": 9,
   "outputs": [],
   "source": [
    "out_path = \"/data/renhaoye/MorCG/dataset/out_decals/scaled/\"\n",
    "with open(\"/data/renhaoye/MorCG_DECaLS/dataset/out_decals.txt\", \"w\") as w:\n",
    "    for i in range(len(df_out_decals)):\n",
    "        ra = df_out_decals.iloc[i, 0]\n",
    "        dec = df_out_decals.iloc[i, 1]\n",
    "        # print(out_path + str(ra) +\"_\"+str(dec)+\".fits\")\n",
    "        if os.path.exists(out_path + str(ra) +\"_\"+str(dec)+\".fits\"):\n",
    "            w.writelines(out_path + str(ra) +\"_\"+str(dec)+\".fits\\n\")"
   ],
   "metadata": {
    "collapsed": false,
    "pycharm": {
     "name": "#%%\n"
    }
   }
  },
  {
   "cell_type": "code",
   "execution_count": 4,
   "outputs": [
    {
     "data": {
      "text/plain": "                ra        dec\n0       156.404678  32.128263\n1       148.422728  46.050863\n2       171.393300  40.511548\n3       174.082308  34.291213\n4       138.421896  37.178474\n...            ...        ...\n259318  192.953495  44.714637\n259319  221.380369  34.762659\n259320  160.264028  57.092322\n259321  192.880675  63.491155\n259322  236.097828  52.568454\n\n[259323 rows x 2 columns]",
      "text/html": "<div>\n<style scoped>\n    .dataframe tbody tr th:only-of-type {\n        vertical-align: middle;\n    }\n\n    .dataframe tbody tr th {\n        vertical-align: top;\n    }\n\n    .dataframe thead th {\n        text-align: right;\n    }\n</style>\n<table border=\"1\" class=\"dataframe\">\n  <thead>\n    <tr style=\"text-align: right;\">\n      <th></th>\n      <th>ra</th>\n      <th>dec</th>\n    </tr>\n  </thead>\n  <tbody>\n    <tr>\n      <th>0</th>\n      <td>156.404678</td>\n      <td>32.128263</td>\n    </tr>\n    <tr>\n      <th>1</th>\n      <td>148.422728</td>\n      <td>46.050863</td>\n    </tr>\n    <tr>\n      <th>2</th>\n      <td>171.393300</td>\n      <td>40.511548</td>\n    </tr>\n    <tr>\n      <th>3</th>\n      <td>174.082308</td>\n      <td>34.291213</td>\n    </tr>\n    <tr>\n      <th>4</th>\n      <td>138.421896</td>\n      <td>37.178474</td>\n    </tr>\n    <tr>\n      <th>...</th>\n      <td>...</td>\n      <td>...</td>\n    </tr>\n    <tr>\n      <th>259318</th>\n      <td>192.953495</td>\n      <td>44.714637</td>\n    </tr>\n    <tr>\n      <th>259319</th>\n      <td>221.380369</td>\n      <td>34.762659</td>\n    </tr>\n    <tr>\n      <th>259320</th>\n      <td>160.264028</td>\n      <td>57.092322</td>\n    </tr>\n    <tr>\n      <th>259321</th>\n      <td>192.880675</td>\n      <td>63.491155</td>\n    </tr>\n    <tr>\n      <th>259322</th>\n      <td>236.097828</td>\n      <td>52.568454</td>\n    </tr>\n  </tbody>\n</table>\n<p>259323 rows × 2 columns</p>\n</div>"
     },
     "execution_count": 4,
     "metadata": {},
     "output_type": "execute_result"
    }
   ],
   "source": [
    "df_out_decals"
   ],
   "metadata": {
    "collapsed": false,
    "pycharm": {
     "name": "#%%\n"
    }
   }
  },
  {
   "cell_type": "code",
   "execution_count": 17,
   "outputs": [
    {
     "data": {
      "text/plain": "array([1., 3., 1., ..., 1., 1., 1.])"
     },
     "execution_count": 17,
     "metadata": {},
     "output_type": "execute_result"
    }
   ],
   "source": [
    "hdul = fits.open(\"/data/renhaoye/MorCG/dataset/VAGC_MGS-m14_1777--20180116.fits\")\n",
    "hdul[1].data[\"ZFLAG\"]"
   ],
   "metadata": {
    "collapsed": false,
    "pycharm": {
     "name": "#%%\n"
    }
   }
  },
  {
   "cell_type": "code",
   "execution_count": 19,
   "outputs": [],
   "source": [
    "mgs_out_decals = match(df_out_decals[[\"ra\", \"dec\"]], MGS, 2, [\"in_ra\", \"in_dec\"]).drop(columns=[\"ra\", \"dec\"]).rename(columns={\"in_ra\":\"ra\", \"in_dec\":\"dec\"})"
   ],
   "metadata": {
    "collapsed": false,
    "pycharm": {
     "name": "#%%\n"
    }
   }
  },
  {
   "cell_type": "code",
   "execution_count": 6,
   "outputs": [
    {
     "data": {
      "text/plain": "259323"
     },
     "execution_count": 6,
     "metadata": {},
     "output_type": "execute_result"
    }
   ],
   "source": [
    "len(mgs_out_decals)"
   ],
   "metadata": {
    "collapsed": false,
    "pycharm": {
     "name": "#%%\n"
    }
   }
  },
  {
   "cell_type": "code",
   "execution_count": 20,
   "outputs": [
    {
     "data": {
      "text/plain": "                ra        dec  petro_mag  model_mag  fiber_mag  kcorrect  \\\n0       156.404678  32.128263  15.143953  15.016191  16.695520 -0.176257   \n1       148.422728  46.050863  17.371208  17.362738  18.940884 -0.075653   \n2       171.393300  40.511548  17.281286  17.296396  18.777445 -0.094603   \n3       174.082308  34.291213  17.538813  17.229443  18.860756 -0.029741   \n4       138.421896  37.178474  17.671869  17.643246  18.793917 -0.102097   \n...            ...        ...        ...        ...        ...       ...   \n259318  192.953495  44.714637  17.462763  17.356127  18.415308 -0.118210   \n259319  221.380369  34.762659  17.251778  17.195953  19.037485 -0.127115   \n259320  160.264028  57.092322  17.500916  17.437056  18.287146 -0.125338   \n259321  192.880675  63.491155  16.362547  16.346455  16.894310  0.000000   \n259322  236.097828  52.568454  15.610745  15.575288  18.238932 -0.116520   \n\n               z  zflag  \n0       0.037345    1.0  \n1       0.127883    1.0  \n2       0.122104    1.0  \n3       0.240013    1.0  \n4       0.104790    1.0  \n...          ...    ...  \n259318  0.086586    1.0  \n259319  0.077640    1.0  \n259320  0.080563    1.0  \n259321  0.000000    0.0  \n259322  0.045193    1.0  \n\n[259323 rows x 8 columns]",
      "text/html": "<div>\n<style scoped>\n    .dataframe tbody tr th:only-of-type {\n        vertical-align: middle;\n    }\n\n    .dataframe tbody tr th {\n        vertical-align: top;\n    }\n\n    .dataframe thead th {\n        text-align: right;\n    }\n</style>\n<table border=\"1\" class=\"dataframe\">\n  <thead>\n    <tr style=\"text-align: right;\">\n      <th></th>\n      <th>ra</th>\n      <th>dec</th>\n      <th>petro_mag</th>\n      <th>model_mag</th>\n      <th>fiber_mag</th>\n      <th>kcorrect</th>\n      <th>z</th>\n      <th>zflag</th>\n    </tr>\n  </thead>\n  <tbody>\n    <tr>\n      <th>0</th>\n      <td>156.404678</td>\n      <td>32.128263</td>\n      <td>15.143953</td>\n      <td>15.016191</td>\n      <td>16.695520</td>\n      <td>-0.176257</td>\n      <td>0.037345</td>\n      <td>1.0</td>\n    </tr>\n    <tr>\n      <th>1</th>\n      <td>148.422728</td>\n      <td>46.050863</td>\n      <td>17.371208</td>\n      <td>17.362738</td>\n      <td>18.940884</td>\n      <td>-0.075653</td>\n      <td>0.127883</td>\n      <td>1.0</td>\n    </tr>\n    <tr>\n      <th>2</th>\n      <td>171.393300</td>\n      <td>40.511548</td>\n      <td>17.281286</td>\n      <td>17.296396</td>\n      <td>18.777445</td>\n      <td>-0.094603</td>\n      <td>0.122104</td>\n      <td>1.0</td>\n    </tr>\n    <tr>\n      <th>3</th>\n      <td>174.082308</td>\n      <td>34.291213</td>\n      <td>17.538813</td>\n      <td>17.229443</td>\n      <td>18.860756</td>\n      <td>-0.029741</td>\n      <td>0.240013</td>\n      <td>1.0</td>\n    </tr>\n    <tr>\n      <th>4</th>\n      <td>138.421896</td>\n      <td>37.178474</td>\n      <td>17.671869</td>\n      <td>17.643246</td>\n      <td>18.793917</td>\n      <td>-0.102097</td>\n      <td>0.104790</td>\n      <td>1.0</td>\n    </tr>\n    <tr>\n      <th>...</th>\n      <td>...</td>\n      <td>...</td>\n      <td>...</td>\n      <td>...</td>\n      <td>...</td>\n      <td>...</td>\n      <td>...</td>\n      <td>...</td>\n    </tr>\n    <tr>\n      <th>259318</th>\n      <td>192.953495</td>\n      <td>44.714637</td>\n      <td>17.462763</td>\n      <td>17.356127</td>\n      <td>18.415308</td>\n      <td>-0.118210</td>\n      <td>0.086586</td>\n      <td>1.0</td>\n    </tr>\n    <tr>\n      <th>259319</th>\n      <td>221.380369</td>\n      <td>34.762659</td>\n      <td>17.251778</td>\n      <td>17.195953</td>\n      <td>19.037485</td>\n      <td>-0.127115</td>\n      <td>0.077640</td>\n      <td>1.0</td>\n    </tr>\n    <tr>\n      <th>259320</th>\n      <td>160.264028</td>\n      <td>57.092322</td>\n      <td>17.500916</td>\n      <td>17.437056</td>\n      <td>18.287146</td>\n      <td>-0.125338</td>\n      <td>0.080563</td>\n      <td>1.0</td>\n    </tr>\n    <tr>\n      <th>259321</th>\n      <td>192.880675</td>\n      <td>63.491155</td>\n      <td>16.362547</td>\n      <td>16.346455</td>\n      <td>16.894310</td>\n      <td>0.000000</td>\n      <td>0.000000</td>\n      <td>0.0</td>\n    </tr>\n    <tr>\n      <th>259322</th>\n      <td>236.097828</td>\n      <td>52.568454</td>\n      <td>15.610745</td>\n      <td>15.575288</td>\n      <td>18.238932</td>\n      <td>-0.116520</td>\n      <td>0.045193</td>\n      <td>1.0</td>\n    </tr>\n  </tbody>\n</table>\n<p>259323 rows × 8 columns</p>\n</div>"
     },
     "execution_count": 20,
     "metadata": {},
     "output_type": "execute_result"
    }
   ],
   "source": [
    "mgs_out_decals"
   ],
   "metadata": {
    "collapsed": false,
    "pycharm": {
     "name": "#%%\n"
    }
   }
  },
  {
   "cell_type": "code",
   "execution_count": 22,
   "outputs": [],
   "source": [
    "import matplotlib.pyplot as plt\n",
    "%matplotlib inline"
   ],
   "metadata": {
    "collapsed": false,
    "pycharm": {
     "name": "#%%\n"
    }
   }
  },
  {
   "cell_type": "code",
   "execution_count": 31,
   "outputs": [
    {
     "data": {
      "text/plain": "244771"
     },
     "execution_count": 31,
     "metadata": {},
     "output_type": "execute_result"
    }
   ],
   "source": [
    "len(mgs_out_decals.query(\"z > 0.01 and z < 0.4\"))"
   ],
   "metadata": {
    "collapsed": false,
    "pycharm": {
     "name": "#%%\n"
    }
   }
  },
  {
   "cell_type": "code",
   "execution_count": 32,
   "outputs": [
    {
     "data": {
      "text/plain": "<Figure size 432x288 with 1 Axes>",
      "image/png": "[encoded data removed]"
     },
     "metadata": {
      "needs_background": "light"
     },
     "output_type": "display_data"
    }
   ],
   "source": [
    "plt.hist(mgs_out_decals.petro_mag, bins=1000, histtype=\"step\")\n",
    "# plt.xlim((0.01, 0.4))\n",
    "plt.show()"
   ],
   "metadata": {
    "collapsed": false,
    "pycharm": {
     "name": "#%%\n"
    }
   }
  },
  {
   "cell_type": "code",
   "execution_count": 30,
   "outputs": [
    {
     "data": {
      "text/plain": "<Figure size 432x288 with 1 Axes>",
      "image/png": "[encoded data removed]"
     },
     "metadata": {
      "needs_background": "light"
     },
     "output_type": "display_data"
    }
   ],
   "source": [
    "plt.hist(mgs_out_decals.z, bins=1000, histtype=\"step\")\n",
    "plt.xlim((0.01, 0.4))\n",
    "plt.show()"
   ],
   "metadata": {
    "collapsed": false,
    "pycharm": {
     "name": "#%%\n"
    }
   }
  },
  {
   "cell_type": "code",
   "execution_count": 4,
   "outputs": [],
   "source": [
    "def get_each_question(df_c, votes):\n",
    "    return df_c.query(\"smooth_or_featured_total_votes >= %d\" % votes),\\\n",
    "           df_c.query(\"disk_edge_on_total_votes >= %d\" % votes),\\\n",
    "           df_c.query(\"has_spiral_arms_total_votes >= %d\" % votes),\\\n",
    "           df_c.query(\"bar_total_votes >= %d\" % votes),\\\n",
    "           df_c.query(\"bulge_size_total_votes >= %d\" % votes),\\\n",
    "           df_c.query(\"how_rounded_total_votes >= %d\" % votes),\\\n",
    "           df_c.query(\"edge_on_bulge_total_votes >= %d\" % votes),\\\n",
    "           df_c.query(\"spiral_winding_total_votes >= %d\" % votes),\\\n",
    "           df_c.query(\"spiral_arm_count_total_votes >= %d\" % votes),\\\n",
    "           df_c.query(\"merging_total_votes >= %d\" % votes)\n",
    "def get_total_question(df, votes, operator):\n",
    "    if operator == \">=\":\n",
    "        return df.query(\"smooth_or_featured_total_votes >= %d | disk_edge_on_total_votes >= %d | has_spiral_arms_total_votes >= %d | bar_total_votes >= %d | bulge_size_total_votes >= %d | how_rounded_total_votes >= %d | edge_on_bulge_total_votes >= %d | spiral_winding_total_votes >= %d | spiral_arm_count_total_votes >= %d | merging_total_votes >= %d\" %(votes, votes, votes, votes, votes, votes, votes, votes, votes, votes))\n",
    "    if operator == \"<=\":\n",
    "        return df.query(\"smooth_or_featured_total_votes >= 3 | disk_edge_on_total_votes >= 3 | has_spiral_arms_total_votes >= 3 | bar_total_votes >= 3 | bulge_size_total_votes >= 3 | how_rounded_total_votes >= 3 | edge_on_bulge_total_votes >= 3 | spiral_winding_total_votes >= 3 | spiral_arm_count_total_votes >= 3 | merging_total_votes >= 3\").query(\"smooth_or_featured_total_votes <= %d | disk_edge_on_total_votes <= %d | has_spiral_arms_total_votes <= %d | bar_total_votes <= %d | bulge_size_total_votes <= %d | how_rounded_total_votes <= %d | edge_on_bulge_total_votes <= %d | spiral_winding_total_votes <= %d | spiral_arm_count_total_votes <= %d | merging_total_votes <= %d\" %(votes, votes, votes, votes, votes, votes, votes, votes, votes, votes))"
   ],
   "metadata": {
    "collapsed": false,
    "pycharm": {
     "name": "#%%\n"
    }
   }
  },
  {
   "cell_type": "code",
   "execution_count": 5,
   "outputs": [
    {
     "data": {
      "text/plain": "(140931, 3713, 3618, 137313, 95)"
     },
     "execution_count": 5,
     "metadata": {},
     "output_type": "execute_result"
    }
   ],
   "source": [
    "in_decals = match(df_in_decals, df_c, 2, [\"real_ra\", \"real_dec\"]).drop(columns=[\"ra\", \"dec\"]).rename(columns={\"real_ra\":\"ra\", \"real_dec\":\"dec\"})\n",
    "out_decals = match(df_out_decals, df_c, 2, [\"real_ra\", \"real_dec\"]).drop(columns=[\"ra\", \"dec\"]).rename(columns={\"real_ra\":\"ra\", \"real_dec\":\"dec\"})\n",
    "overlap = match(in_decals[[\"ra\", \"dec\"]], out_decals, 2, [\"in_ra\", \"in_dec\"]).drop(columns=[\"ra\", \"dec\"]).rename(columns={\"in_ra\":\"ra\", \"in_dec\":\"dec\"})\n",
    "only_in_decals = pd.concat([in_decals, out_decals, out_decals]).drop_duplicates(keep=False)\n",
    "only_out_decals = pd.concat([out_decals, in_decals, in_decals]).drop_duplicates(keep=False)\n",
    "len(in_decals), len(out_decals), len(overlap), len(only_in_decals), len(only_out_decals)"
   ],
   "metadata": {
    "collapsed": false,
    "pycharm": {
     "name": "#%%\n"
    }
   }
  },
  {
   "cell_type": "code",
   "execution_count": 11,
   "outputs": [
    {
     "data": {
      "text/plain": "              ra        dec  redshift  elpetro_absmag_r  sersic_nmgy_r  \\\n0     156.404678  32.128263  0.037345        -20.225850    1243.062400   \n1     353.134865   0.648646  0.065196        -19.588432     151.364820   \n2      37.034101   0.054160  0.062150        -20.116978     278.596560   \n3      41.180459   1.222984  0.071949        -19.227112      96.110344   \n4     168.303649  31.972414  0.118092        -20.502115      89.214455   \n...          ...        ...       ...               ...            ...   \n3613   38.324794  -1.246896  0.050361        -18.379513      83.085700   \n3614  170.880584  32.458464  0.075255        -21.369747     887.079160   \n3615   39.218964  -0.955296  0.112789        -20.233921      93.505830   \n3616  227.203124  32.863581  0.112732        -20.884190     172.655530   \n3617  230.296703  32.045519  0.108780        -20.668434     156.515780   \n\n      petro_th50  petro_th90  petro_theta     upload_group  \\\n0       3.405226   11.521922     7.807667  active_baseline   \n1       2.929065    6.465595     5.842183  active_baseline   \n2       3.923811    9.933681     8.390046       pre_active   \n3       1.578830    4.394024     3.639873       pre_active   \n4       1.731566    5.273066     3.781496  active_baseline   \n...          ...         ...          ...              ...   \n3613    4.394024   10.682637    10.377614       pre_active   \n3614    3.385794   11.456174     7.587428  active_baseline   \n3615    1.333357    3.970353     3.015157  active_baseline   \n3616    1.526362    4.746917     3.385585  active_baseline   \n3617    2.007320    6.901734     4.871721  active_baseline   \n\n      active_learning_on  ...  spiral_arm_count_cant_tell_fraction  \\\n0                  False  ...                               0.0000   \n1                  False  ...                               0.5000   \n2                  False  ...                               0.3125   \n3                  False  ...                               0.0000   \n4                  False  ...                               0.0000   \n...                  ...  ...                                  ...   \n3613               False  ...                               0.0000   \n3614               False  ...                               0.0000   \n3615               False  ...                               0.0000   \n3616               False  ...                               0.0000   \n3617               False  ...                               0.0000   \n\n     merging_total_votes  merging_none  merging_none_fraction  \\\n0                      4             4               1.000000   \n1                      6             5               0.833333   \n2                     37             6               0.162162   \n3                     34            20               0.588235   \n4                      4             4               1.000000   \n...                  ...           ...                    ...   \n3613                  38            36               0.947368   \n3614                   4             2               0.500000   \n3615                   4             4               1.000000   \n3616                   8             3               0.375000   \n3617                   5             4               0.800000   \n\n      merging_minor_disturbance  merging_minor_disturbance_fraction  \\\n0                             0                            0.000000   \n1                             1                            0.166667   \n2                            16                            0.432432   \n3                             5                            0.147059   \n4                             0                            0.000000   \n...                         ...                                 ...   \n3613                          1                            0.026316   \n3614                          2                            0.500000   \n3615                          0                            0.000000   \n3616                          3                            0.375000   \n3617                          0                            0.000000   \n\n      merging_major_disturbance  merging_major_disturbance_fraction  \\\n0                             0                            0.000000   \n1                             0                            0.000000   \n2                             6                            0.162162   \n3                             2                            0.058824   \n4                             0                            0.000000   \n...                         ...                                 ...   \n3613                          1                            0.026316   \n3614                          0                            0.000000   \n3615                          0                            0.000000   \n3616                          0                            0.000000   \n3617                          1                            0.200000   \n\n      merging_merger  merging_merger_fraction  \n0                  0                 0.000000  \n1                  0                 0.000000  \n2                  3                 0.081081  \n3                  0                 0.000000  \n4                  0                 0.000000  \n...              ...                      ...  \n3613               0                 0.000000  \n3614               0                 0.000000  \n3615               0                 0.000000  \n3616               2                 0.250000  \n3617               0                 0.000000  \n\n[3618 rows x 90 columns]",
      "text/html": "<div>\n<style scoped>\n    .dataframe tbody tr th:only-of-type {\n        vertical-align: middle;\n    }\n\n    .dataframe tbody tr th {\n        vertical-align: top;\n    }\n\n    .dataframe thead th {\n        text-align: right;\n    }\n</style>\n<table border=\"1\" class=\"dataframe\">\n  <thead>\n    <tr style=\"text-align: right;\">\n      <th></th>\n      <th>ra</th>\n      <th>dec</th>\n      <th>redshift</th>\n      <th>elpetro_absmag_r</th>\n      <th>sersic_nmgy_r</th>\n      <th>petro_th50</th>\n      <th>petro_th90</th>\n      <th>petro_theta</th>\n      <th>upload_group</th>\n      <th>active_learning_on</th>\n      <th>...</th>\n      <th>spiral_arm_count_cant_tell_fraction</th>\n      <th>merging_total_votes</th>\n      <th>merging_none</th>\n      <th>merging_none_fraction</th>\n      <th>merging_minor_disturbance</th>\n      <th>merging_minor_disturbance_fraction</th>\n      <th>merging_major_disturbance</th>\n      <th>merging_major_disturbance_fraction</th>\n      <th>merging_merger</th>\n      <th>merging_merger_fraction</th>\n    </tr>\n  </thead>\n  <tbody>\n    <tr>\n      <th>0</th>\n      <td>156.404678</td>\n      <td>32.128263</td>\n      <td>0.037345</td>\n      <td>-20.225850</td>\n      <td>1243.062400</td>\n      <td>3.405226</td>\n      <td>11.521922</td>\n      <td>7.807667</td>\n      <td>active_baseline</td>\n      <td>False</td>\n      <td>...</td>\n      <td>0.0000</td>\n      <td>4</td>\n      <td>4</td>\n      <td>1.000000</td>\n      <td>0</td>\n      <td>0.000000</td>\n      <td>0</td>\n      <td>0.000000</td>\n      <td>0</td>\n      <td>0.000000</td>\n    </tr>\n    <tr>\n      <th>1</th>\n      <td>353.134865</td>\n      <td>0.648646</td>\n      <td>0.065196</td>\n      <td>-19.588432</td>\n      <td>151.364820</td>\n      <td>2.929065</td>\n      <td>6.465595</td>\n      <td>5.842183</td>\n      <td>active_baseline</td>\n      <td>False</td>\n      <td>...</td>\n      <td>0.5000</td>\n      <td>6</td>\n      <td>5</td>\n      <td>0.833333</td>\n      <td>1</td>\n      <td>0.166667</td>\n      <td>0</td>\n      <td>0.000000</td>\n      <td>0</td>\n      <td>0.000000</td>\n    </tr>\n    <tr>\n      <th>2</th>\n      <td>37.034101</td>\n      <td>0.054160</td>\n      <td>0.062150</td>\n      <td>-20.116978</td>\n      <td>278.596560</td>\n      <td>3.923811</td>\n      <td>9.933681</td>\n      <td>8.390046</td>\n      <td>pre_active</td>\n      <td>False</td>\n      <td>...</td>\n      <td>0.3125</td>\n      <td>37</td>\n      <td>6</td>\n      <td>0.162162</td>\n      <td>16</td>\n      <td>0.432432</td>\n      <td>6</td>\n      <td>0.162162</td>\n      <td>3</td>\n      <td>0.081081</td>\n    </tr>\n    <tr>\n      <th>3</th>\n      <td>41.180459</td>\n      <td>1.222984</td>\n      <td>0.071949</td>\n      <td>-19.227112</td>\n      <td>96.110344</td>\n      <td>1.578830</td>\n      <td>4.394024</td>\n      <td>3.639873</td>\n      <td>pre_active</td>\n      <td>False</td>\n      <td>...</td>\n      <td>0.0000</td>\n      <td>34</td>\n      <td>20</td>\n      <td>0.588235</td>\n      <td>5</td>\n      <td>0.147059</td>\n      <td>2</td>\n      <td>0.058824</td>\n      <td>0</td>\n      <td>0.000000</td>\n    </tr>\n    <tr>\n      <th>4</th>\n      <td>168.303649</td>\n      <td>31.972414</td>\n      <td>0.118092</td>\n      <td>-20.502115</td>\n      <td>89.214455</td>\n      <td>1.731566</td>\n      <td>5.273066</td>\n      <td>3.781496</td>\n      <td>active_baseline</td>\n      <td>False</td>\n      <td>...</td>\n      <td>0.0000</td>\n      <td>4</td>\n      <td>4</td>\n      <td>1.000000</td>\n      <td>0</td>\n      <td>0.000000</td>\n      <td>0</td>\n      <td>0.000000</td>\n      <td>0</td>\n      <td>0.000000</td>\n    </tr>\n    <tr>\n      <th>...</th>\n      <td>...</td>\n      <td>...</td>\n      <td>...</td>\n      <td>...</td>\n      <td>...</td>\n      <td>...</td>\n      <td>...</td>\n      <td>...</td>\n      <td>...</td>\n      <td>...</td>\n      <td>...</td>\n      <td>...</td>\n      <td>...</td>\n      <td>...</td>\n      <td>...</td>\n      <td>...</td>\n      <td>...</td>\n      <td>...</td>\n      <td>...</td>\n      <td>...</td>\n      <td>...</td>\n    </tr>\n    <tr>\n      <th>3613</th>\n      <td>38.324794</td>\n      <td>-1.246896</td>\n      <td>0.050361</td>\n      <td>-18.379513</td>\n      <td>83.085700</td>\n      <td>4.394024</td>\n      <td>10.682637</td>\n      <td>10.377614</td>\n      <td>pre_active</td>\n      <td>False</td>\n      <td>...</td>\n      <td>0.0000</td>\n      <td>38</td>\n      <td>36</td>\n      <td>0.947368</td>\n      <td>1</td>\n      <td>0.026316</td>\n      <td>1</td>\n      <td>0.026316</td>\n      <td>0</td>\n      <td>0.000000</td>\n    </tr>\n    <tr>\n      <th>3614</th>\n      <td>170.880584</td>\n      <td>32.458464</td>\n      <td>0.075255</td>\n      <td>-21.369747</td>\n      <td>887.079160</td>\n      <td>3.385794</td>\n      <td>11.456174</td>\n      <td>7.587428</td>\n      <td>active_baseline</td>\n      <td>False</td>\n      <td>...</td>\n      <td>0.0000</td>\n      <td>4</td>\n      <td>2</td>\n      <td>0.500000</td>\n      <td>2</td>\n      <td>0.500000</td>\n      <td>0</td>\n      <td>0.000000</td>\n      <td>0</td>\n      <td>0.000000</td>\n    </tr>\n    <tr>\n      <th>3615</th>\n      <td>39.218964</td>\n      <td>-0.955296</td>\n      <td>0.112789</td>\n      <td>-20.233921</td>\n      <td>93.505830</td>\n      <td>1.333357</td>\n      <td>3.970353</td>\n      <td>3.015157</td>\n      <td>active_baseline</td>\n      <td>False</td>\n      <td>...</td>\n      <td>0.0000</td>\n      <td>4</td>\n      <td>4</td>\n      <td>1.000000</td>\n      <td>0</td>\n      <td>0.000000</td>\n      <td>0</td>\n      <td>0.000000</td>\n      <td>0</td>\n      <td>0.000000</td>\n    </tr>\n    <tr>\n      <th>3616</th>\n      <td>227.203124</td>\n      <td>32.863581</td>\n      <td>0.112732</td>\n      <td>-20.884190</td>\n      <td>172.655530</td>\n      <td>1.526362</td>\n      <td>4.746917</td>\n      <td>3.385585</td>\n      <td>active_baseline</td>\n      <td>False</td>\n      <td>...</td>\n      <td>0.0000</td>\n      <td>8</td>\n      <td>3</td>\n      <td>0.375000</td>\n      <td>3</td>\n      <td>0.375000</td>\n      <td>0</td>\n      <td>0.000000</td>\n      <td>2</td>\n      <td>0.250000</td>\n    </tr>\n    <tr>\n      <th>3617</th>\n      <td>230.296703</td>\n      <td>32.045519</td>\n      <td>0.108780</td>\n      <td>-20.668434</td>\n      <td>156.515780</td>\n      <td>2.007320</td>\n      <td>6.901734</td>\n      <td>4.871721</td>\n      <td>active_baseline</td>\n      <td>False</td>\n      <td>...</td>\n      <td>0.0000</td>\n      <td>5</td>\n      <td>4</td>\n      <td>0.800000</td>\n      <td>0</td>\n      <td>0.000000</td>\n      <td>1</td>\n      <td>0.200000</td>\n      <td>0</td>\n      <td>0.000000</td>\n    </tr>\n  </tbody>\n</table>\n<p>3618 rows × 90 columns</p>\n</div>"
     },
     "execution_count": 11,
     "metadata": {},
     "output_type": "execute_result"
    }
   ],
   "source": [
    "overlap.to_csv(\"/data/renhaoye/MorCG_DECaLS/dataset/overlap.csv\")"
   ],
   "metadata": {
    "collapsed": false,
    "pycharm": {
     "name": "#%%\n"
    }
   }
  },
  {
   "cell_type": "code",
   "execution_count": null,
   "outputs": [],
   "source": [],
   "metadata": {
    "collapsed": false,
    "pycharm": {
     "name": "#%%\n"
    }
   }
  },
  {
   "cell_type": "code",
   "execution_count": 6,
   "outputs": [],
   "source": [
    "acc = get_total_question(in_decals, 34, \">=\")"
   ],
   "metadata": {
    "collapsed": false,
    "pycharm": {
     "name": "#%%\n"
    }
   }
  },
  {
   "cell_type": "code",
   "execution_count": null,
   "outputs": [],
   "source": [
    "acc"
   ],
   "metadata": {
    "collapsed": false,
    "pycharm": {
     "name": "#%%\n"
    }
   }
  },
  {
   "cell_type": "code",
   "execution_count": 12,
   "outputs": [
    {
     "data": {
      "text/plain": "(135599, 0.026681612696258822)"
     },
     "execution_count": 12,
     "metadata": {},
     "output_type": "execute_result"
    }
   ],
   "source": [
    "only_in_decals_data = get_total_question(only_in_decals, 3, \">=\")\n",
    "len(only_in_decals_data), len(overlap)/len(only_in_decals_data)"
   ],
   "metadata": {
    "collapsed": false,
    "pycharm": {
     "name": "#%%\n"
    }
   }
  },
  {
   "cell_type": "code",
   "execution_count": 18,
   "outputs": [],
   "source": [
    "train, valid = train_test_split(only_in_decals_data, train_size=0.8266, random_state=1926)\n",
    "valid = pd.concat([valid, overlap])\n",
    "len(train), len(valid)"
   ],
   "metadata": {
    "collapsed": false,
    "pycharm": {
     "name": "#%%\n"
    }
   }
  },
  {
   "cell_type": "code",
   "execution_count": 35,
   "outputs": [],
   "source": [
    "train.to_csv(\"/data/renhaoye/MorCG_DECaLS/dataset/train.csv\")\n",
    "valid.to_csv(\"/data/renhaoye/MorCG_DECaLS/dataset/valid.csv\")"
   ],
   "metadata": {
    "collapsed": false,
    "pycharm": {
     "name": "#%%\n"
    }
   }
  },
  {
   "cell_type": "code",
   "execution_count": 25,
   "outputs": [
    {
     "data": {
      "text/plain": "(8058, 1183, 873, 873, 873, 1501, 119, 599, 599, 6763)"
     },
     "execution_count": 25,
     "metadata": {},
     "output_type": "execute_result"
    }
   ],
   "source": [
    "q1, q2, q3, q4, q5, q6, q7, q8, q9, q10 = get_each_question(valid, 34)\n",
    "len(q1), len(q2), len(q3), len(q4), len(q5), len(q6), len(q7), len(q8), len(q9), len(q10)"
   ],
   "metadata": {
    "collapsed": false,
    "pycharm": {
     "name": "#%%\n"
    }
   }
  },
  {
   "cell_type": "code",
   "execution_count": 9,
   "outputs": [],
   "source": [
    "question_answer_pairs = gz2_pairs\n",
    "dependencies = gz2_and_decals_dependencies\n",
    "schema = Schema(question_answer_pairs, dependencies)\n",
    "label_cols = schema.label_cols\n",
    "def get_galaxy_label(galaxy, label_cols):\n",
    "    # no longer casts to int64, user now responsible in df. If dtype is mixed, will try to infer with infer_objects\n",
    "    return galaxy[label_cols].infer_objects().values.squeeze()  # squeeze for if there's one label_col"
   ],
   "metadata": {
    "collapsed": false,
    "pycharm": {
     "name": "#%%\n"
    }
   }
  },
  {
   "cell_type": "code",
   "execution_count": 34,
   "outputs": [],
   "source": [
    "func = [\"train\", \"valid\"]\n",
    "dataset = [train, valid]\n",
    "# for i in range(1):\n",
    "for i in range(len(func)):\n",
    "    with open(\"/data/renhaoye/MorCG_DECaLS/dataset/mw_%s.txt\" % func[i] , \"w\") as w:\n",
    "        # for j in range(2,3):\n",
    "        for j in range(len(dataset[i])):\n",
    "            ra, dec = str(dataset[i].iloc[j, 0]), str(dataset[i].iloc[j, 1]),   # 先拿坐标和标签，这一步仅适用于decals的，sdss匹配的不可以\n",
    "            path = \"/data/renhaoye/MorCG/dataset/in_decals/agmtn/\" + ra + \"_\" + dec + \".fits\"\n",
    "            if os.path.exists(path):\n",
    "                w.write(path + \" label:\")\n",
    "                for v in get_galaxy_label(dataset[i].iloc[j], label_cols):\n",
    "                    w.write(str(v) + \" \")\n",
    "                w.write(\" \\n\")\n",
    "                if i == 0:\n",
    "                    if os.path.exists(path.split(\".fits\")[0] + \"_rotated.fits\"):\n",
    "                        w.write(path.split(\".fits\")[0] + \"_rotated.fits\" + \" label:\")\n",
    "                        for v in get_galaxy_label(dataset[i].iloc[j], label_cols):\n",
    "                            w.write(str(v) + \" \")\n",
    "                        w.write(\" \\n\")\n",
    "                    if os.path.exists(path.split(\".fits\")[0] + \"_flipped.fits\"):\n",
    "                        w.write(path.split(\".fits\")[0] + \"_flipped.fits\" + \" label:\")\n",
    "                        for v in get_galaxy_label(dataset[i].iloc[j], label_cols):\n",
    "                            w.write(str(v) + \" \")\n",
    "                        w.write(\" \\n\")\n",
    "                    if os.path.exists(path.split(\".fits\")[0] + \"_shifted.fits\"):\n",
    "                        w.write(path.split(\".fits\")[0] + \"_shifted.fits\" + \" label:\")\n",
    "                        for v in get_galaxy_label(dataset[i].iloc[j], label_cols):\n",
    "                            w.write(str(v) + \" \")\n",
    "                        w.write(\" \\n\")\n",
    "            else:\n",
    "                print(path.split(\".fits\")[0])"
   ],
   "metadata": {
    "collapsed": false,
    "pycharm": {
     "name": "#%%\n"
    }
   }
  },
  {
   "cell_type": "code",
   "execution_count": 17,
   "outputs": [],
   "source": [
    "overlap_train, overlap_valid = train_test_split(overlap, train_size=0.6, random_state=1926)"
   ],
   "metadata": {
    "collapsed": false,
    "pycharm": {
     "name": "#%%\n"
    }
   }
  },
  {
   "cell_type": "code",
   "execution_count": 18,
   "outputs": [],
   "source": [
    "func = [\"overlap_train\", \"overlap_valid\"]\n",
    "dataset = [overlap_train, overlap_valid]\n",
    "# for i in range(1):\n",
    "for i in range(len(func)):\n",
    "    with open(\"/data/renhaoye/MorCG_DECaLS/dataset/mw_%s.txt\" % func[i] , \"w\") as w:\n",
    "        # for j in range(2,3):\n",
    "        for j in range(len(dataset[i])):\n",
    "            ra, dec = str(dataset[i].iloc[j, 0]), str(dataset[i].iloc[j, 1]),   # 先拿坐标和标签，这一步仅适用于decals的，sdss匹配的不可以\n",
    "            path = \"/data/renhaoye/MorCG/dataset/out_decals/scaled/\" + ra + \"_\" + dec + \".fits\"\n",
    "            if os.path.exists(path):\n",
    "                w.write(path + \" label:\")\n",
    "                for v in get_galaxy_label(dataset[i].iloc[j], label_cols):\n",
    "                    w.write(str(v) + \" \")\n",
    "                w.write(\" \\n\")\n",
    "            else:\n",
    "                print(path.split(\".fits\")[0])"
   ],
   "metadata": {
    "collapsed": false,
    "pycharm": {
     "name": "#%%\n"
    }
   }
  },
  {
   "cell_type": "code",
   "execution_count": 10,
   "outputs": [],
   "source": [
    "func = [\"acc\"]\n",
    "dataset = [acc]\n",
    "# for i in range(1):\n",
    "for i in range(len(func)):\n",
    "    with open(\"/data/renhaoye/MorCG_DECaLS/dataset/mw_%s.txt\" % func[i] , \"w\") as w:\n",
    "        # for j in range(2,3):\n",
    "        for j in range(len(dataset[i])):\n",
    "            ra, dec = str(dataset[i].iloc[j, 0]), str(dataset[i].iloc[j, 1]),   # 先拿坐标和标签，这一步仅适用于decals的，sdss匹配的不可以\n",
    "            path = \"/data/renhaoye/MorCG/dataset/in_decals/agmtn/\" + ra + \"_\" + dec + \".fits\"\n",
    "            if os.path.exists(path):\n",
    "                w.write(path + \" label:\")\n",
    "                for v in get_galaxy_label(dataset[i].iloc[j], label_cols):\n",
    "                    w.write(str(v) + \" \")\n",
    "                w.write(\" \\n\")\n",
    "            else:\n",
    "                print(path.split(\".fits\")[0])"
   ],
   "metadata": {
    "collapsed": false,
    "pycharm": {
     "name": "#%%\n"
    }
   }
  },
  {
   "cell_type": "code",
   "execution_count": null,
   "outputs": [],
   "source": [],
   "metadata": {
    "collapsed": false,
    "pycharm": {
     "name": "#%%\n"
    }
   }
  }
 ],
 "metadata": {
  "kernelspec": {
   "display_name": "Python 3",
   "language": "python",
   "name": "python3"
  },
  "language_info": {
   "codemirror_mode": {
    "name": "ipython",
    "version": 2
   },
   "file_extension": ".py",
   "mimetype": "text/x-python",
   "name": "python",
   "nbconvert_exporter": "python",
   "pygments_lexer": "ipython2",
   "version": "2.7.6"
  }
 },
 "nbformat": 4,
 "nbformat_minor": 0
}