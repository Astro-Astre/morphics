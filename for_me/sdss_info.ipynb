{
 "cells": [
  {
   "cell_type": "code",
   "execution_count": 38,
   "metadata": {
    "collapsed": true,
    "ExecuteTime": {
     "start_time": "2023-04-13T19:02:51.068637Z",
     "end_time": "2023-04-13T19:02:51.100010Z"
    }
   },
   "outputs": [],
   "source": [
    "import pandas as pd\n",
    "from astropy.io import fits\n",
    "import numpy as np\n",
    "import astropy.units as u\n",
    "from astropy.coordinates import SkyCoord\n",
    "from tqdm import  tqdm\n",
    "def match(df_1: pd.DataFrame, df_2: pd.DataFrame, pixel: int, df1_name: list, resolution=0.262) -> pd.DataFrame:\n",
    "    \"\"\"\n",
    "    match two catalog.\n",
    "    suggestion: df_1 is the real coordinates locally, df_2 is a DataFrame with something wrong in coordinates\n",
    "    :param df_1:\n",
    "    :param df_2:\n",
    "    :param pixel:\n",
    "    :param df1_name:\n",
    "    :param resolution: telescope resolution , arcsec/pixel\n",
    "    :return: using coord in df_1\n",
    "    \"\"\"\n",
    "    sc1 = SkyCoord(ra=df_1.ra, dec=df_1.dec, unit=\"degree\")\n",
    "    sc2 = SkyCoord(ra=df_2.ra, dec=df_2.dec, unit=\"degree\")\n",
    "    idx, d2d, d3d = sc1.match_to_catalog_sky(sc2)\n",
    "    distance_idx = d2d < (pixel * resolution * u.arcsec)\n",
    "\n",
    "    sc1_matches = df_1.iloc[distance_idx]\n",
    "    sc2_matches = df_2.iloc[idx[distance_idx]]\n",
    "\n",
    "    test = sc1_matches.loc[:].rename(columns={\"ra\": \"%s\" % df1_name[0], \"dec\": \"%s\" % df1_name[1]})\n",
    "    test.insert(0, 'ID', range(len(test)))\n",
    "    sc2_matches.insert(0, 'ID', range(len(sc2_matches)))\n",
    "    new_df = pd.merge(test, sc2_matches, how=\"inner\", on=[\"ID\"])\n",
    "    return new_df.drop(\"ID\", axis=1)\n"
   ]
  },
  {
   "cell_type": "code",
   "execution_count": 33,
   "outputs": [],
   "source": [
    "hdul = fits.open(\"/data/public/ChenM/MIFIT/MANGA/nsa_v1_0_1.fits\")\n",
    "ra = np.array(hdul[1].data[\"RA      \"])\n",
    "dec = np.array(hdul[1].data[\"DEC     \"])\n",
    "run = np.array(hdul[1].data[\"RUN     \"])\n",
    "rerun = np.array(hdul[1].data[\"RERUN   \"])\n",
    "camcol = np.array(hdul[1].data[\"CAMCOL  \"])\n",
    "field = np.array(hdul[1].data[\"FIELD   \"])\n",
    "MANGA = pd.DataFrame(np.array((ra, dec, run, rerun, camcol, field)).T, columns=[\"ra\", \"dec\", \"run\", \"rerun\", \"camcol\", \"field\"])"
   ],
   "metadata": {
    "collapsed": false,
    "ExecuteTime": {
     "start_time": "2023-04-13T18:56:58.651780Z",
     "end_time": "2023-04-13T18:57:01.145480Z"
    }
   }
  },
  {
   "cell_type": "code",
   "execution_count": 34,
   "outputs": [
    {
     "data": {
      "text/plain": "                   ra                  dec   run rerun camcol field\n0    146.714215072841  -1.0412800233313741   756   301      1   206\n1   146.6285851269414  -0.7651620976591762  1239   301      2   175\n2  146.63170644325592  -0.9883467023052999   756   301      1   206\n3   146.9341288729797  -0.6704053610430766  1239   301      2   177\n4   146.9634997327016  -0.5447758299302171   756   301      2   208",
      "text/html": "<div>\n<style scoped>\n    .dataframe tbody tr th:only-of-type {\n        vertical-align: middle;\n    }\n\n    .dataframe tbody tr th {\n        vertical-align: top;\n    }\n\n    .dataframe thead th {\n        text-align: right;\n    }\n</style>\n<table border=\"1\" class=\"dataframe\">\n  <thead>\n    <tr style=\"text-align: right;\">\n      <th></th>\n      <th>ra</th>\n      <th>dec</th>\n      <th>run</th>\n      <th>rerun</th>\n      <th>camcol</th>\n      <th>field</th>\n    </tr>\n  </thead>\n  <tbody>\n    <tr>\n      <th>0</th>\n      <td>146.714215072841</td>\n      <td>-1.0412800233313741</td>\n      <td>756</td>\n      <td>301</td>\n      <td>1</td>\n      <td>206</td>\n    </tr>\n    <tr>\n      <th>1</th>\n      <td>146.6285851269414</td>\n      <td>-0.7651620976591762</td>\n      <td>1239</td>\n      <td>301</td>\n      <td>2</td>\n      <td>175</td>\n    </tr>\n    <tr>\n      <th>2</th>\n      <td>146.63170644325592</td>\n      <td>-0.9883467023052999</td>\n      <td>756</td>\n      <td>301</td>\n      <td>1</td>\n      <td>206</td>\n    </tr>\n    <tr>\n      <th>3</th>\n      <td>146.9341288729797</td>\n      <td>-0.6704053610430766</td>\n      <td>1239</td>\n      <td>301</td>\n      <td>2</td>\n      <td>177</td>\n    </tr>\n    <tr>\n      <th>4</th>\n      <td>146.9634997327016</td>\n      <td>-0.5447758299302171</td>\n      <td>756</td>\n      <td>301</td>\n      <td>2</td>\n      <td>208</td>\n    </tr>\n  </tbody>\n</table>\n</div>"
     },
     "execution_count": 34,
     "metadata": {},
     "output_type": "execute_result"
    }
   ],
   "source": [
    "MANGA.head()"
   ],
   "metadata": {
    "collapsed": false,
    "ExecuteTime": {
     "start_time": "2023-04-13T18:57:01.165985Z",
     "end_time": "2023-04-13T18:57:01.188639Z"
    }
   }
  },
  {
   "cell_type": "code",
   "execution_count": 35,
   "outputs": [],
   "source": [
    "with fits.open(\"/data/public/renhaoye/morphics/dataset/VAGC_MGS-m14_1777--20180116.fits\") as hdul:\n",
    "    ra = np.array(hdul[1].data[\"RA      \"])\n",
    "    dec = np.array(hdul[1].data[\"DEC     \"])\n",
    "    MGS = pd.DataFrame(np.array((ra, dec)).T, columns=[\"ra\", \"dec\"])"
   ],
   "metadata": {
    "collapsed": false,
    "ExecuteTime": {
     "start_time": "2023-04-13T18:57:01.186681Z",
     "end_time": "2023-04-13T18:57:01.422835Z"
    }
   }
  },
  {
   "cell_type": "code",
   "execution_count": 39,
   "outputs": [],
   "source": [
    "new = match(MGS[[\"ra\", \"dec\"]], MANGA, 2, df1_name=[\"in_ra\", \"in_dec\"]).drop(columns=[\"ra\", \"dec\"])\n",
    "new.rename(columns={\"in_ra\": \"ra\", \"in_dec\": \"dec\"}, inplace=True)"
   ],
   "metadata": {
    "collapsed": false,
    "ExecuteTime": {
     "start_time": "2023-04-13T19:02:53.594838Z",
     "end_time": "2023-04-13T19:03:50.499628Z"
    }
   }
  },
  {
   "cell_type": "code",
   "execution_count": 42,
   "outputs": [],
   "source": [
    "new.to_csv(\"/data/public/renhaoye/morphics/dataset/sdss_mgs.csv\", index=False)"
   ],
   "metadata": {
    "collapsed": false,
    "ExecuteTime": {
     "start_time": "2023-04-13T19:06:16.396223Z",
     "end_time": "2023-04-13T19:06:17.870838Z"
    }
   }
  },
  {
   "cell_type": "code",
   "execution_count": null,
   "outputs": [],
   "source": [],
   "metadata": {
    "collapsed": false
   }
  }
 ],
 "metadata": {
  "kernelspec": {
   "display_name": "Python 3",
   "language": "python",
   "name": "python3"
  },
  "language_info": {
   "codemirror_mode": {
    "name": "ipython",
    "version": 2
   },
   "file_extension": ".py",
   "mimetype": "text/x-python",
   "name": "python",
   "nbconvert_exporter": "python",
   "pygments_lexer": "ipython2",
   "version": "2.7.6"
  }
 },
 "nbformat": 4,
 "nbformat_minor": 0
}
