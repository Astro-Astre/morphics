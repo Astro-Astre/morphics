{
 "cells": [
  {
   "cell_type": "code",
   "execution_count": 1,
   "outputs": [],
   "source": [
    "# 制作数据集\n",
    "import sys\n",
    "import os\n",
    "root = \"/data/public/renhaoye/morphics/\"\n",
    "subdirs = [os.path.join(root, d) for d in os.listdir(root) if os.path.isdir(os.path.join(root, d))]\n",
    "for subdir in subdirs:\n",
    "    sys.path.append(subdir)"
   ],
   "metadata": {
    "collapsed": false,
    "ExecuteTime": {
     "start_time": "2023-04-23T14:55:54.675295Z",
     "end_time": "2023-04-23T14:55:54.722375Z"
    }
   }
  },
  {
   "cell_type": "code",
   "execution_count": 2,
   "outputs": [],
   "source": [
    "from astropy.io import fits\n",
    "from sklearn.model_selection import train_test_split\n",
    "from utils.utils import *\n",
    "import os\n",
    "import matplotlib.pyplot as plt\n",
    "%matplotlib inline"
   ],
   "metadata": {
    "collapsed": false,
    "ExecuteTime": {
     "start_time": "2023-04-23T14:55:56.118070Z",
     "end_time": "2023-04-23T14:55:58.834468Z"
    }
   }
  },
  {
   "cell_type": "code",
   "execution_count": 3,
   "outputs": [],
   "source": [
    "\"\"\"local files in DECaLS\"\"\"\n",
    "df_in_decals = load_dir(root + \"/dataset/in_decals/raw_fits/\")\n",
    "\"\"\"local files in BASS+MzLS\"\"\"\n",
    "df_out_decals = load_dir(root + \"/dataset/out_decals/scaled/\")\n",
    "df_sdss_mgs = load_dir(root + \"/dataset/sdss/integration/\")\n",
    "\"\"\"main galaxy sample\"\"\"\n",
    "with fits.open(root + \"dataset/VAGC_MGS-m14_1777--20180116.fits\") as hdul:\n",
    "    ra = np.array(hdul[1].data[\"RA      \"])\n",
    "    dec = np.array(hdul[1].data[\"DEC     \"])\n",
    "    petro_mag = np.array(hdul[1].data[\"PETROMAG\"][:, 2])\n",
    "    model_mag = np.array(hdul[1].data[\"MODELMAG\"][:, 2])\n",
    "    fiber_mag = np.array(hdul[1].data[\"FIBERMAG\"][:, 2])\n",
    "    kcorrect = np.array(hdul[1].data[\"KCORRECT\"][:, 2])\n",
    "    z = np.array(hdul[1].data[\"Z\"])\n",
    "    zflag = np.array(hdul[1].data[\"ZFLAG\"])\n",
    "    MGS = pd.DataFrame(np.array((ra, dec, petro_mag, model_mag, fiber_mag, kcorrect, z, zflag)).T, columns=[\"ra\", \"dec\", \"petro_mag\", \"model_mag\", \"fiber_mag\", \"kcorrect\", \"z\", \"zflag\"])\n",
    "# \"\"\"overlap of DECaLS and BASS+MzLS\"\"\"\n",
    "# overlap = match(df_in_decals, df_out_decals, 2, [\"in_ra\", \"in_dec\"]).drop(columns=[\"ra\", \"dec\"]).rename(columns={\"in_ra\":\"ra\", \"in_dec\":\"dec\"})\n",
    "df_c = pd.read_csv(root + \"/dataset/gz_decals_volunteers_c.csv\", index_col=0).rename(columns=lambda x: x.replace(\"-\", \"_\")).fillna(0)"
   ],
   "metadata": {
    "collapsed": false,
    "ExecuteTime": {
     "start_time": "2023-04-20T09:20:29.406596Z",
     "end_time": "2023-04-20T09:21:30.968415Z"
    }
   }
  },
  {
   "cell_type": "code",
   "execution_count": 4,
   "outputs": [],
   "source": [
    "out_path = root + \"/dataset/out_decals/scaled/\"\n",
    "with open(root + \"dataset/out_decals.txt\", \"w\") as w:\n",
    "    for i in range(len(df_out_decals)):\n",
    "        ra = df_out_decals.iloc[i, 0]\n",
    "        dec = df_out_decals.iloc[i, 1]\n",
    "        # print(out_path + str(ra) +\"_\"+str(dec)+\".fits\")\n",
    "        if os.path.exists(out_path + str(ra) +\"_\"+str(dec)+\".fits\"):\n",
    "            w.writelines(out_path + str(ra) +\"_\"+str(dec)+\".fits\\n\")"
   ],
   "metadata": {
    "collapsed": false,
    "ExecuteTime": {
     "start_time": "2023-04-20T09:22:17.668485Z",
     "end_time": "2023-04-20T09:22:28.481644Z"
    }
   }
  },
  {
   "cell_type": "code",
   "execution_count": 5,
   "outputs": [
    {
     "data": {
      "text/plain": "                ra        dec\n0       254.086200  34.382434\n1       113.090361  39.966851\n2       356.073783   0.785788\n3       248.085546  40.393064\n4       222.090791  40.494290\n...            ...        ...\n259318  160.442412  50.965611\n259319  217.396797  42.644278\n259320  209.959664  34.763253\n259321  232.973994  57.258931\n259322  219.311915  45.145956\n\n[259323 rows x 2 columns]",
      "text/html": "<div>\n<style scoped>\n    .dataframe tbody tr th:only-of-type {\n        vertical-align: middle;\n    }\n\n    .dataframe tbody tr th {\n        vertical-align: top;\n    }\n\n    .dataframe thead th {\n        text-align: right;\n    }\n</style>\n<table border=\"1\" class=\"dataframe\">\n  <thead>\n    <tr style=\"text-align: right;\">\n      <th></th>\n      <th>ra</th>\n      <th>dec</th>\n    </tr>\n  </thead>\n  <tbody>\n    <tr>\n      <th>0</th>\n      <td>254.086200</td>\n      <td>34.382434</td>\n    </tr>\n    <tr>\n      <th>1</th>\n      <td>113.090361</td>\n      <td>39.966851</td>\n    </tr>\n    <tr>\n      <th>2</th>\n      <td>356.073783</td>\n      <td>0.785788</td>\n    </tr>\n    <tr>\n      <th>3</th>\n      <td>248.085546</td>\n      <td>40.393064</td>\n    </tr>\n    <tr>\n      <th>4</th>\n      <td>222.090791</td>\n      <td>40.494290</td>\n    </tr>\n    <tr>\n      <th>...</th>\n      <td>...</td>\n      <td>...</td>\n    </tr>\n    <tr>\n      <th>259318</th>\n      <td>160.442412</td>\n      <td>50.965611</td>\n    </tr>\n    <tr>\n      <th>259319</th>\n      <td>217.396797</td>\n      <td>42.644278</td>\n    </tr>\n    <tr>\n      <th>259320</th>\n      <td>209.959664</td>\n      <td>34.763253</td>\n    </tr>\n    <tr>\n      <th>259321</th>\n      <td>232.973994</td>\n      <td>57.258931</td>\n    </tr>\n    <tr>\n      <th>259322</th>\n      <td>219.311915</td>\n      <td>45.145956</td>\n    </tr>\n  </tbody>\n</table>\n<p>259323 rows × 2 columns</p>\n</div>"
     },
     "execution_count": 5,
     "metadata": {},
     "output_type": "execute_result"
    }
   ],
   "source": [
    "df_out_decals"
   ],
   "metadata": {
    "collapsed": false,
    "ExecuteTime": {
     "start_time": "2023-04-20T09:22:50.980680Z",
     "end_time": "2023-04-20T09:22:51.030530Z"
    }
   }
  },
  {
   "cell_type": "code",
   "execution_count": 6,
   "outputs": [
    {
     "data": {
      "text/plain": "                ra        dec  petro_mag  model_mag  fiber_mag  kcorrect  \\\n0       254.086200  34.382434  17.497099  17.390890  18.438908 -0.070683   \n1       113.090361  39.966851  17.406330  17.394701  18.264536 -0.085500   \n2       356.073783   0.785788  17.683458  17.741369  18.998924 -0.108742   \n3       248.085546  40.393064  16.783379  16.778845  19.189617  0.000000   \n4       222.090791  40.494290  17.655195  17.711962  18.332808 -0.103748   \n...            ...        ...        ...        ...        ...       ...   \n259318  160.442412  50.965611  17.470362  17.485048  18.871605 -0.058748   \n259319  217.396797  42.644278  15.777389  15.463521  18.094423 -0.125067   \n259320  209.959664  34.763253  17.181618  17.135927  18.977999 -0.103997   \n259321  232.973994  57.258931  15.988348  15.755253  17.852697 -0.123093   \n259322  219.311915  45.145956  17.701038  17.449749  19.017445 -0.078224   \n\n               z  zflag  \n0       0.131587    1.0  \n1       0.111358    1.0  \n2       0.049892    1.0  \n3       0.000000    0.0  \n4       0.079318    1.0  \n...          ...    ...  \n259318  0.153879    1.0  \n259319  0.061699    1.0  \n259320  0.092208    1.0  \n259321  0.071466    1.0  \n259322  0.124860    1.0  \n\n[259323 rows x 8 columns]",
      "text/html": "<div>\n<style scoped>\n    .dataframe tbody tr th:only-of-type {\n        vertical-align: middle;\n    }\n\n    .dataframe tbody tr th {\n        vertical-align: top;\n    }\n\n    .dataframe thead th {\n        text-align: right;\n    }\n</style>\n<table border=\"1\" class=\"dataframe\">\n  <thead>\n    <tr style=\"text-align: right;\">\n      <th></th>\n      <th>ra</th>\n      <th>dec</th>\n      <th>petro_mag</th>\n      <th>model_mag</th>\n      <th>fiber_mag</th>\n      <th>kcorrect</th>\n      <th>z</th>\n      <th>zflag</th>\n    </tr>\n  </thead>\n  <tbody>\n    <tr>\n      <th>0</th>\n      <td>254.086200</td>\n      <td>34.382434</td>\n      <td>17.497099</td>\n      <td>17.390890</td>\n      <td>18.438908</td>\n      <td>-0.070683</td>\n      <td>0.131587</td>\n      <td>1.0</td>\n    </tr>\n    <tr>\n      <th>1</th>\n      <td>113.090361</td>\n      <td>39.966851</td>\n      <td>17.406330</td>\n      <td>17.394701</td>\n      <td>18.264536</td>\n      <td>-0.085500</td>\n      <td>0.111358</td>\n      <td>1.0</td>\n    </tr>\n    <tr>\n      <th>2</th>\n      <td>356.073783</td>\n      <td>0.785788</td>\n      <td>17.683458</td>\n      <td>17.741369</td>\n      <td>18.998924</td>\n      <td>-0.108742</td>\n      <td>0.049892</td>\n      <td>1.0</td>\n    </tr>\n    <tr>\n      <th>3</th>\n      <td>248.085546</td>\n      <td>40.393064</td>\n      <td>16.783379</td>\n      <td>16.778845</td>\n      <td>19.189617</td>\n      <td>0.000000</td>\n      <td>0.000000</td>\n      <td>0.0</td>\n    </tr>\n    <tr>\n      <th>4</th>\n      <td>222.090791</td>\n      <td>40.494290</td>\n      <td>17.655195</td>\n      <td>17.711962</td>\n      <td>18.332808</td>\n      <td>-0.103748</td>\n      <td>0.079318</td>\n      <td>1.0</td>\n    </tr>\n    <tr>\n      <th>...</th>\n      <td>...</td>\n      <td>...</td>\n      <td>...</td>\n      <td>...</td>\n      <td>...</td>\n      <td>...</td>\n      <td>...</td>\n      <td>...</td>\n    </tr>\n    <tr>\n      <th>259318</th>\n      <td>160.442412</td>\n      <td>50.965611</td>\n      <td>17.470362</td>\n      <td>17.485048</td>\n      <td>18.871605</td>\n      <td>-0.058748</td>\n      <td>0.153879</td>\n      <td>1.0</td>\n    </tr>\n    <tr>\n      <th>259319</th>\n      <td>217.396797</td>\n      <td>42.644278</td>\n      <td>15.777389</td>\n      <td>15.463521</td>\n      <td>18.094423</td>\n      <td>-0.125067</td>\n      <td>0.061699</td>\n      <td>1.0</td>\n    </tr>\n    <tr>\n      <th>259320</th>\n      <td>209.959664</td>\n      <td>34.763253</td>\n      <td>17.181618</td>\n      <td>17.135927</td>\n      <td>18.977999</td>\n      <td>-0.103997</td>\n      <td>0.092208</td>\n      <td>1.0</td>\n    </tr>\n    <tr>\n      <th>259321</th>\n      <td>232.973994</td>\n      <td>57.258931</td>\n      <td>15.988348</td>\n      <td>15.755253</td>\n      <td>17.852697</td>\n      <td>-0.123093</td>\n      <td>0.071466</td>\n      <td>1.0</td>\n    </tr>\n    <tr>\n      <th>259322</th>\n      <td>219.311915</td>\n      <td>45.145956</td>\n      <td>17.701038</td>\n      <td>17.449749</td>\n      <td>19.017445</td>\n      <td>-0.078224</td>\n      <td>0.124860</td>\n      <td>1.0</td>\n    </tr>\n  </tbody>\n</table>\n<p>259323 rows × 8 columns</p>\n</div>"
     },
     "execution_count": 6,
     "metadata": {},
     "output_type": "execute_result"
    }
   ],
   "source": [
    "mgs_out_decals = match(df_out_decals[[\"ra\", \"dec\"]], MGS, 2, [\"in_ra\", \"in_dec\"]).drop(columns=[\"ra\", \"dec\"]).rename(columns={\"in_ra\":\"ra\", \"in_dec\":\"dec\"})\n",
    "mgs_out_decals"
   ],
   "metadata": {
    "collapsed": false,
    "ExecuteTime": {
     "start_time": "2023-04-20T09:23:21.779633Z",
     "end_time": "2023-04-20T09:23:42.189144Z"
    }
   }
  },
  {
   "cell_type": "code",
   "execution_count": 7,
   "outputs": [
    {
     "data": {
      "text/plain": "                ra        dec  petro_mag  model_mag  fiber_mag  kcorrect  \\\n0       248.085546  40.393064  16.783379  16.778845  19.189617  0.000000   \n1       222.090791  40.494290  17.655195  17.711962  18.332808 -0.103748   \n2       223.928281  48.143946  17.403008  17.339443  18.197584 -0.119330   \n3       111.967062  44.358709  17.752647  17.691950  18.412945 -0.104189   \n4       122.651337  42.376288  16.481096  16.354923  17.702026 -0.100128   \n...            ...        ...        ...        ...        ...       ...   \n174971  164.255777  46.047778  17.363237  17.333559  19.103756 -0.098517   \n174972  139.366890  46.371248  16.205557  16.053406  17.760263 -0.125324   \n174973  229.143075  56.953094  17.054174  17.032343  18.647470 -0.142685   \n174974  210.385076  56.907520  17.423128  17.223619  18.502514 -0.136739   \n174975  232.456807  32.446848  17.560852  17.533573  18.858850 -0.100188   \n\n               z  zflag  \n0       0.000000    0.0  \n1       0.079318    1.0  \n2       0.083806    1.0  \n3       0.099477    1.0  \n4       0.102492    1.0  \n...          ...    ...  \n174971  0.142853    1.0  \n174972  0.080965    1.0  \n174973  0.069774    1.0  \n174974  0.068784    1.0  \n174975  0.077304    1.0  \n\n[174976 rows x 8 columns]",
      "text/html": "<div>\n<style scoped>\n    .dataframe tbody tr th:only-of-type {\n        vertical-align: middle;\n    }\n\n    .dataframe tbody tr th {\n        vertical-align: top;\n    }\n\n    .dataframe thead th {\n        text-align: right;\n    }\n</style>\n<table border=\"1\" class=\"dataframe\">\n  <thead>\n    <tr style=\"text-align: right;\">\n      <th></th>\n      <th>ra</th>\n      <th>dec</th>\n      <th>petro_mag</th>\n      <th>model_mag</th>\n      <th>fiber_mag</th>\n      <th>kcorrect</th>\n      <th>z</th>\n      <th>zflag</th>\n    </tr>\n  </thead>\n  <tbody>\n    <tr>\n      <th>0</th>\n      <td>248.085546</td>\n      <td>40.393064</td>\n      <td>16.783379</td>\n      <td>16.778845</td>\n      <td>19.189617</td>\n      <td>0.000000</td>\n      <td>0.000000</td>\n      <td>0.0</td>\n    </tr>\n    <tr>\n      <th>1</th>\n      <td>222.090791</td>\n      <td>40.494290</td>\n      <td>17.655195</td>\n      <td>17.711962</td>\n      <td>18.332808</td>\n      <td>-0.103748</td>\n      <td>0.079318</td>\n      <td>1.0</td>\n    </tr>\n    <tr>\n      <th>2</th>\n      <td>223.928281</td>\n      <td>48.143946</td>\n      <td>17.403008</td>\n      <td>17.339443</td>\n      <td>18.197584</td>\n      <td>-0.119330</td>\n      <td>0.083806</td>\n      <td>1.0</td>\n    </tr>\n    <tr>\n      <th>3</th>\n      <td>111.967062</td>\n      <td>44.358709</td>\n      <td>17.752647</td>\n      <td>17.691950</td>\n      <td>18.412945</td>\n      <td>-0.104189</td>\n      <td>0.099477</td>\n      <td>1.0</td>\n    </tr>\n    <tr>\n      <th>4</th>\n      <td>122.651337</td>\n      <td>42.376288</td>\n      <td>16.481096</td>\n      <td>16.354923</td>\n      <td>17.702026</td>\n      <td>-0.100128</td>\n      <td>0.102492</td>\n      <td>1.0</td>\n    </tr>\n    <tr>\n      <th>...</th>\n      <td>...</td>\n      <td>...</td>\n      <td>...</td>\n      <td>...</td>\n      <td>...</td>\n      <td>...</td>\n      <td>...</td>\n      <td>...</td>\n    </tr>\n    <tr>\n      <th>174971</th>\n      <td>164.255777</td>\n      <td>46.047778</td>\n      <td>17.363237</td>\n      <td>17.333559</td>\n      <td>19.103756</td>\n      <td>-0.098517</td>\n      <td>0.142853</td>\n      <td>1.0</td>\n    </tr>\n    <tr>\n      <th>174972</th>\n      <td>139.366890</td>\n      <td>46.371248</td>\n      <td>16.205557</td>\n      <td>16.053406</td>\n      <td>17.760263</td>\n      <td>-0.125324</td>\n      <td>0.080965</td>\n      <td>1.0</td>\n    </tr>\n    <tr>\n      <th>174973</th>\n      <td>229.143075</td>\n      <td>56.953094</td>\n      <td>17.054174</td>\n      <td>17.032343</td>\n      <td>18.647470</td>\n      <td>-0.142685</td>\n      <td>0.069774</td>\n      <td>1.0</td>\n    </tr>\n    <tr>\n      <th>174974</th>\n      <td>210.385076</td>\n      <td>56.907520</td>\n      <td>17.423128</td>\n      <td>17.223619</td>\n      <td>18.502514</td>\n      <td>-0.136739</td>\n      <td>0.068784</td>\n      <td>1.0</td>\n    </tr>\n    <tr>\n      <th>174975</th>\n      <td>232.456807</td>\n      <td>32.446848</td>\n      <td>17.560852</td>\n      <td>17.533573</td>\n      <td>18.858850</td>\n      <td>-0.100188</td>\n      <td>0.077304</td>\n      <td>1.0</td>\n    </tr>\n  </tbody>\n</table>\n<p>174976 rows × 8 columns</p>\n</div>"
     },
     "execution_count": 7,
     "metadata": {},
     "output_type": "execute_result"
    }
   ],
   "source": [
    "mgs_out_decals_sdss = match(df_sdss_mgs[[\"ra\", \"dec\"]], mgs_out_decals, 2, [\"in_ra\", \"in_dec\"]).drop(columns=[\"ra\", \"dec\"]).rename(columns={\"in_ra\":\"ra\", \"in_dec\":\"dec\"})\n",
    "mgs_out_decals_sdss"
   ],
   "metadata": {
    "collapsed": false,
    "ExecuteTime": {
     "start_time": "2023-04-20T09:25:13.697390Z",
     "end_time": "2023-04-20T09:25:29.772421Z"
    }
   }
  },
  {
   "cell_type": "code",
   "execution_count": 7,
   "outputs": [
    {
     "data": {
      "text/plain": "<Figure size 600x300 with 2 Axes>",
      "image/png": "[encoded data removed]"
     },
     "metadata": {},
     "output_type": "display_data"
    }
   ],
   "source": [
    "plt.figure(figsize=(6, 3))\n",
    "plt.subplot(1, 2, 1)\n",
    "plt.hist(mgs_out_decals.petro_mag, bins=1000, histtype=\"step\")\n",
    "plt.subplot(1, 2, 2)\n",
    "plt.hist(mgs_out_decals.z, bins=1000, histtype=\"step\")\n",
    "plt.xlim((0, 0.4))\n",
    "plt.show()"
   ],
   "metadata": {
    "collapsed": false,
    "ExecuteTime": {
     "start_time": "2023-04-14T18:18:07.286683Z",
     "end_time": "2023-04-14T18:18:07.577019Z"
    }
   }
  },
  {
   "cell_type": "code",
   "execution_count": 12,
   "outputs": [],
   "source": [
    "def get_each_question(df_c, votes):\n",
    "    return df_c.query(\"smooth_or_featured_total_votes >= %d\" % votes),\\\n",
    "           df_c.query(\"disk_edge_on_total_votes >= %d\" % votes),\\\n",
    "           df_c.query(\"has_spiral_arms_total_votes >= %d\" % votes),\\\n",
    "           df_c.query(\"bar_total_votes >= %d\" % votes),\\\n",
    "           df_c.query(\"bulge_size_total_votes >= %d\" % votes),\\\n",
    "           df_c.query(\"how_rounded_total_votes >= %d\" % votes),\\\n",
    "           df_c.query(\"edge_on_bulge_total_votes >= %d\" % votes),\\\n",
    "           df_c.query(\"spiral_winding_total_votes >= %d\" % votes),\\\n",
    "           df_c.query(\"spiral_arm_count_total_votes >= %d\" % votes),\\\n",
    "           df_c.query(\"merging_total_votes >= %d\" % votes)\n",
    "def get_total_question(df, votes, operator):\n",
    "    if operator == \">=\":\n",
    "        return df.query(\"smooth_or_featured_total_votes >= %d | disk_edge_on_total_votes >= %d | has_spiral_arms_total_votes >= %d | bar_total_votes >= %d | bulge_size_total_votes >= %d | how_rounded_total_votes >= %d | edge_on_bulge_total_votes >= %d | spiral_winding_total_votes >= %d | spiral_arm_count_total_votes >= %d | merging_total_votes >= %d\" %(votes, votes, votes, votes, votes, votes, votes, votes, votes, votes))\n",
    "    if operator == \"<=\":\n",
    "        return df.query(\"smooth_or_featured_total_votes >= 3 | disk_edge_on_total_votes >= 3 | has_spiral_arms_total_votes >= 3 | bar_total_votes >= 3 | bulge_size_total_votes >= 3 | how_rounded_total_votes >= 3 | edge_on_bulge_total_votes >= 3 | spiral_winding_total_votes >= 3 | spiral_arm_count_total_votes >= 3 | merging_total_votes >= 3\").query(\"smooth_or_featured_total_votes <= %d | disk_edge_on_total_votes <= %d | has_spiral_arms_total_votes <= %d | bar_total_votes <= %d | bulge_size_total_votes <= %d | how_rounded_total_votes <= %d | edge_on_bulge_total_votes <= %d | spiral_winding_total_votes <= %d | spiral_arm_count_total_votes <= %d | merging_total_votes <= %d\" %(votes, votes, votes, votes, votes, votes, votes, votes, votes, votes))"
   ],
   "metadata": {
    "collapsed": false,
    "ExecuteTime": {
     "start_time": "2023-04-20T09:26:56.567048Z",
     "end_time": "2023-04-20T09:26:56.576790Z"
    }
   }
  },
  {
   "cell_type": "code",
   "execution_count": 13,
   "outputs": [
    {
     "data": {
      "text/plain": "(140931, 3713, 3618, 137313, 95)"
     },
     "execution_count": 13,
     "metadata": {},
     "output_type": "execute_result"
    }
   ],
   "source": [
    "in_decals = match(df_in_decals, df_c, 2, [\"real_ra\", \"real_dec\"]).drop(columns=[\"ra\", \"dec\"]).rename(columns={\"real_ra\":\"ra\", \"real_dec\":\"dec\"})\n",
    "out_decals = match(df_out_decals, df_c, 2, [\"real_ra\", \"real_dec\"]).drop(columns=[\"ra\", \"dec\"]).rename(columns={\"real_ra\":\"ra\", \"real_dec\":\"dec\"})\n",
    "overlap = match(in_decals[[\"ra\", \"dec\"]], out_decals, 2, [\"in_ra\", \"in_dec\"]).drop(columns=[\"ra\", \"dec\"]).rename(columns={\"in_ra\":\"ra\", \"in_dec\":\"dec\"})\n",
    "only_in_decals = pd.concat([in_decals, out_decals, out_decals]).drop_duplicates(keep=False)\n",
    "only_out_decals = pd.concat([out_decals, in_decals, in_decals]).drop_duplicates(keep=False)\n",
    "len(in_decals), len(out_decals), len(overlap), len(only_in_decals), len(only_out_decals)"
   ],
   "metadata": {
    "collapsed": false,
    "ExecuteTime": {
     "start_time": "2023-04-20T09:27:23.812857Z",
     "end_time": "2023-04-20T09:29:23.406436Z"
    }
   }
  },
  {
   "cell_type": "code",
   "execution_count": 14,
   "outputs": [],
   "source": [
    "sdss_in_decals = match(df_sdss_mgs, in_decals[[\"ra\", \"dec\"]], 2, [\"in_ra\", \"in_dec\"]).drop(columns=[\"ra\", \"dec\"]).rename(columns={\"in_ra\":\"ra\", \"in_dec\":\"dec\"})"
   ],
   "metadata": {
    "collapsed": false,
    "ExecuteTime": {
     "start_time": "2023-04-20T09:29:39.580012Z",
     "end_time": "2023-04-20T09:29:53.115851Z"
    }
   }
  },
  {
   "cell_type": "code",
   "execution_count": 15,
   "outputs": [
    {
     "data": {
      "text/plain": "                ra        dec\n0       255.791945  21.386024\n1       146.189714   0.953666\n2       323.650777   0.423026\n3       141.424625   1.284698\n4       203.340642   1.844477\n...            ...        ...\n140775   31.549623  -0.023739\n140776  209.291461   7.238921\n140777  169.954668   0.743151\n140778  179.365011  -0.934022\n140779  165.966986   7.485735\n\n[140780 rows x 2 columns]",
      "text/html": "<div>\n<style scoped>\n    .dataframe tbody tr th:only-of-type {\n        vertical-align: middle;\n    }\n\n    .dataframe tbody tr th {\n        vertical-align: top;\n    }\n\n    .dataframe thead th {\n        text-align: right;\n    }\n</style>\n<table border=\"1\" class=\"dataframe\">\n  <thead>\n    <tr style=\"text-align: right;\">\n      <th></th>\n      <th>ra</th>\n      <th>dec</th>\n    </tr>\n  </thead>\n  <tbody>\n    <tr>\n      <th>0</th>\n      <td>255.791945</td>\n      <td>21.386024</td>\n    </tr>\n    <tr>\n      <th>1</th>\n      <td>146.189714</td>\n      <td>0.953666</td>\n    </tr>\n    <tr>\n      <th>2</th>\n      <td>323.650777</td>\n      <td>0.423026</td>\n    </tr>\n    <tr>\n      <th>3</th>\n      <td>141.424625</td>\n      <td>1.284698</td>\n    </tr>\n    <tr>\n      <th>4</th>\n      <td>203.340642</td>\n      <td>1.844477</td>\n    </tr>\n    <tr>\n      <th>...</th>\n      <td>...</td>\n      <td>...</td>\n    </tr>\n    <tr>\n      <th>140775</th>\n      <td>31.549623</td>\n      <td>-0.023739</td>\n    </tr>\n    <tr>\n      <th>140776</th>\n      <td>209.291461</td>\n      <td>7.238921</td>\n    </tr>\n    <tr>\n      <th>140777</th>\n      <td>169.954668</td>\n      <td>0.743151</td>\n    </tr>\n    <tr>\n      <th>140778</th>\n      <td>179.365011</td>\n      <td>-0.934022</td>\n    </tr>\n    <tr>\n      <th>140779</th>\n      <td>165.966986</td>\n      <td>7.485735</td>\n    </tr>\n  </tbody>\n</table>\n<p>140780 rows × 2 columns</p>\n</div>"
     },
     "execution_count": 15,
     "metadata": {},
     "output_type": "execute_result"
    }
   ],
   "source": [
    "sdss_in_decals"
   ],
   "metadata": {
    "collapsed": false,
    "ExecuteTime": {
     "start_time": "2023-04-20T09:29:54.081292Z",
     "end_time": "2023-04-20T09:29:54.100253Z"
    }
   }
  },
  {
   "cell_type": "code",
   "execution_count": 16,
   "outputs": [
    {
     "data": {
      "text/plain": "              ra        dec  redshift  elpetro_absmag_r  sersic_nmgy_r  \\\n0      40.000767  -1.258052  0.042710        -18.469593      134.46967   \n1     233.050173  32.597552  0.135748        -21.002930      107.62944   \n2     174.327184  32.032602  0.101902        -20.904877      223.53168   \n3     134.022675  32.510227  0.053277        -18.750320      113.18783   \n4     140.472238  32.823737  0.057158        -19.749926    11947.65400   \n...          ...        ...       ...               ...            ...   \n3613  131.500234  32.379075  0.109623        -20.890406      178.72615   \n3614   41.572092   1.007004  0.077108        -19.645597      112.60097   \n3615  156.215163  32.337451  0.143289        -21.756617      225.69269   \n3616  250.705199  31.871577  0.136063        -21.243150      127.72995   \n3617  134.024689  32.615121  0.065535        -19.719324      170.08260   \n\n      petro_th50  petro_th90  petro_theta     upload_group  \\\n0       1.482779    3.728810     3.164304  active_baseline   \n1       2.621211    8.112587     5.675371  active_baseline   \n2       3.164304    8.034627     7.086768  active_baseline   \n3       3.493677    8.705801     8.085743  active_priority   \n4      71.472510   96.698135   105.420820  active_baseline   \n...          ...         ...          ...              ...   \n3613    2.019637    5.177910     4.523175       pre_active   \n3614    2.571075    6.655635     5.675371       pre_active   \n3615    1.971466    5.434039     4.589167  active_baseline   \n3616    3.133896   10.427839     8.391453  active_baseline   \n3617    1.924443    4.701300     4.028279  active_baseline   \n\n      active_learning_on  ...  spiral_arm_count_cant_tell_fraction  \\\n0                  False  ...                             0.000000   \n1                  False  ...                             0.000000   \n2                  False  ...                             0.000000   \n3                   True  ...                             0.312500   \n4                  False  ...                             0.000000   \n...                  ...  ...                                  ...   \n3613               False  ...                             0.000000   \n3614               False  ...                             0.333333   \n3615               False  ...                             0.000000   \n3616               False  ...                             0.000000   \n3617               False  ...                             0.000000   \n\n     merging_total_votes  merging_none  merging_none_fraction  \\\n0                      5             4               0.800000   \n1                      5             1               0.200000   \n2                      5             2               0.400000   \n3                     44            19               0.431818   \n4                      0             0               0.000000   \n...                  ...           ...                    ...   \n3613                  36            22               0.611111   \n3614                  39            29               0.743590   \n3615                   3             3               1.000000   \n3616                   2             1               0.500000   \n3617                   5             5               1.000000   \n\n      merging_minor_disturbance  merging_minor_disturbance_fraction  \\\n0                             1                            0.200000   \n1                             1                            0.200000   \n2                             3                            0.600000   \n3                            16                            0.363636   \n4                             0                            0.000000   \n...                         ...                                 ...   \n3613                         14                            0.388889   \n3614                          1                            0.025641   \n3615                          0                            0.000000   \n3616                          0                            0.000000   \n3617                          0                            0.000000   \n\n      merging_major_disturbance  merging_major_disturbance_fraction  \\\n0                             0                            0.000000   \n1                             1                            0.200000   \n2                             0                            0.000000   \n3                             7                            0.159091   \n4                             0                            0.000000   \n...                         ...                                 ...   \n3613                          0                            0.000000   \n3614                          3                            0.076923   \n3615                          0                            0.000000   \n3616                          0                            0.000000   \n3617                          0                            0.000000   \n\n      merging_merger  merging_merger_fraction  \n0                  0                 0.000000  \n1                  2                 0.400000  \n2                  0                 0.000000  \n3                  2                 0.045455  \n4                  0                 0.000000  \n...              ...                      ...  \n3613               0                 0.000000  \n3614               0                 0.000000  \n3615               0                 0.000000  \n3616               1                 0.500000  \n3617               0                 0.000000  \n\n[3618 rows x 90 columns]",
      "text/html": "<div>\n<style scoped>\n    .dataframe tbody tr th:only-of-type {\n        vertical-align: middle;\n    }\n\n    .dataframe tbody tr th {\n        vertical-align: top;\n    }\n\n    .dataframe thead th {\n        text-align: right;\n    }\n</style>\n<table border=\"1\" class=\"dataframe\">\n  <thead>\n    <tr style=\"text-align: right;\">\n      <th></th>\n      <th>ra</th>\n      <th>dec</th>\n      <th>redshift</th>\n      <th>elpetro_absmag_r</th>\n      <th>sersic_nmgy_r</th>\n      <th>petro_th50</th>\n      <th>petro_th90</th>\n      <th>petro_theta</th>\n      <th>upload_group</th>\n      <th>active_learning_on</th>\n      <th>...</th>\n      <th>spiral_arm_count_cant_tell_fraction</th>\n      <th>merging_total_votes</th>\n      <th>merging_none</th>\n      <th>merging_none_fraction</th>\n      <th>merging_minor_disturbance</th>\n      <th>merging_minor_disturbance_fraction</th>\n      <th>merging_major_disturbance</th>\n      <th>merging_major_disturbance_fraction</th>\n      <th>merging_merger</th>\n      <th>merging_merger_fraction</th>\n    </tr>\n  </thead>\n  <tbody>\n    <tr>\n      <th>0</th>\n      <td>40.000767</td>\n      <td>-1.258052</td>\n      <td>0.042710</td>\n      <td>-18.469593</td>\n      <td>134.46967</td>\n      <td>1.482779</td>\n      <td>3.728810</td>\n      <td>3.164304</td>\n      <td>active_baseline</td>\n      <td>False</td>\n      <td>...</td>\n      <td>0.000000</td>\n      <td>5</td>\n      <td>4</td>\n      <td>0.800000</td>\n      <td>1</td>\n      <td>0.200000</td>\n      <td>0</td>\n      <td>0.000000</td>\n      <td>0</td>\n      <td>0.000000</td>\n    </tr>\n    <tr>\n      <th>1</th>\n      <td>233.050173</td>\n      <td>32.597552</td>\n      <td>0.135748</td>\n      <td>-21.002930</td>\n      <td>107.62944</td>\n      <td>2.621211</td>\n      <td>8.112587</td>\n      <td>5.675371</td>\n      <td>active_baseline</td>\n      <td>False</td>\n      <td>...</td>\n      <td>0.000000</td>\n      <td>5</td>\n      <td>1</td>\n      <td>0.200000</td>\n      <td>1</td>\n      <td>0.200000</td>\n      <td>1</td>\n      <td>0.200000</td>\n      <td>2</td>\n      <td>0.400000</td>\n    </tr>\n    <tr>\n      <th>2</th>\n      <td>174.327184</td>\n      <td>32.032602</td>\n      <td>0.101902</td>\n      <td>-20.904877</td>\n      <td>223.53168</td>\n      <td>3.164304</td>\n      <td>8.034627</td>\n      <td>7.086768</td>\n      <td>active_baseline</td>\n      <td>False</td>\n      <td>...</td>\n      <td>0.000000</td>\n      <td>5</td>\n      <td>2</td>\n      <td>0.400000</td>\n      <td>3</td>\n      <td>0.600000</td>\n      <td>0</td>\n      <td>0.000000</td>\n      <td>0</td>\n      <td>0.000000</td>\n    </tr>\n    <tr>\n      <th>3</th>\n      <td>134.022675</td>\n      <td>32.510227</td>\n      <td>0.053277</td>\n      <td>-18.750320</td>\n      <td>113.18783</td>\n      <td>3.493677</td>\n      <td>8.705801</td>\n      <td>8.085743</td>\n      <td>active_priority</td>\n      <td>True</td>\n      <td>...</td>\n      <td>0.312500</td>\n      <td>44</td>\n      <td>19</td>\n      <td>0.431818</td>\n      <td>16</td>\n      <td>0.363636</td>\n      <td>7</td>\n      <td>0.159091</td>\n      <td>2</td>\n      <td>0.045455</td>\n    </tr>\n    <tr>\n      <th>4</th>\n      <td>140.472238</td>\n      <td>32.823737</td>\n      <td>0.057158</td>\n      <td>-19.749926</td>\n      <td>11947.65400</td>\n      <td>71.472510</td>\n      <td>96.698135</td>\n      <td>105.420820</td>\n      <td>active_baseline</td>\n      <td>False</td>\n      <td>...</td>\n      <td>0.000000</td>\n      <td>0</td>\n      <td>0</td>\n      <td>0.000000</td>\n      <td>0</td>\n      <td>0.000000</td>\n      <td>0</td>\n      <td>0.000000</td>\n      <td>0</td>\n      <td>0.000000</td>\n    </tr>\n    <tr>\n      <th>...</th>\n      <td>...</td>\n      <td>...</td>\n      <td>...</td>\n      <td>...</td>\n      <td>...</td>\n      <td>...</td>\n      <td>...</td>\n      <td>...</td>\n      <td>...</td>\n      <td>...</td>\n      <td>...</td>\n      <td>...</td>\n      <td>...</td>\n      <td>...</td>\n      <td>...</td>\n      <td>...</td>\n      <td>...</td>\n      <td>...</td>\n      <td>...</td>\n      <td>...</td>\n      <td>...</td>\n    </tr>\n    <tr>\n      <th>3613</th>\n      <td>131.500234</td>\n      <td>32.379075</td>\n      <td>0.109623</td>\n      <td>-20.890406</td>\n      <td>178.72615</td>\n      <td>2.019637</td>\n      <td>5.177910</td>\n      <td>4.523175</td>\n      <td>pre_active</td>\n      <td>False</td>\n      <td>...</td>\n      <td>0.000000</td>\n      <td>36</td>\n      <td>22</td>\n      <td>0.611111</td>\n      <td>14</td>\n      <td>0.388889</td>\n      <td>0</td>\n      <td>0.000000</td>\n      <td>0</td>\n      <td>0.000000</td>\n    </tr>\n    <tr>\n      <th>3614</th>\n      <td>41.572092</td>\n      <td>1.007004</td>\n      <td>0.077108</td>\n      <td>-19.645597</td>\n      <td>112.60097</td>\n      <td>2.571075</td>\n      <td>6.655635</td>\n      <td>5.675371</td>\n      <td>pre_active</td>\n      <td>False</td>\n      <td>...</td>\n      <td>0.333333</td>\n      <td>39</td>\n      <td>29</td>\n      <td>0.743590</td>\n      <td>1</td>\n      <td>0.025641</td>\n      <td>3</td>\n      <td>0.076923</td>\n      <td>0</td>\n      <td>0.000000</td>\n    </tr>\n    <tr>\n      <th>3615</th>\n      <td>156.215163</td>\n      <td>32.337451</td>\n      <td>0.143289</td>\n      <td>-21.756617</td>\n      <td>225.69269</td>\n      <td>1.971466</td>\n      <td>5.434039</td>\n      <td>4.589167</td>\n      <td>active_baseline</td>\n      <td>False</td>\n      <td>...</td>\n      <td>0.000000</td>\n      <td>3</td>\n      <td>3</td>\n      <td>1.000000</td>\n      <td>0</td>\n      <td>0.000000</td>\n      <td>0</td>\n      <td>0.000000</td>\n      <td>0</td>\n      <td>0.000000</td>\n    </tr>\n    <tr>\n      <th>3616</th>\n      <td>250.705199</td>\n      <td>31.871577</td>\n      <td>0.136063</td>\n      <td>-21.243150</td>\n      <td>127.72995</td>\n      <td>3.133896</td>\n      <td>10.427839</td>\n      <td>8.391453</td>\n      <td>active_baseline</td>\n      <td>False</td>\n      <td>...</td>\n      <td>0.000000</td>\n      <td>2</td>\n      <td>1</td>\n      <td>0.500000</td>\n      <td>0</td>\n      <td>0.000000</td>\n      <td>0</td>\n      <td>0.000000</td>\n      <td>1</td>\n      <td>0.500000</td>\n    </tr>\n    <tr>\n      <th>3617</th>\n      <td>134.024689</td>\n      <td>32.615121</td>\n      <td>0.065535</td>\n      <td>-19.719324</td>\n      <td>170.08260</td>\n      <td>1.924443</td>\n      <td>4.701300</td>\n      <td>4.028279</td>\n      <td>active_baseline</td>\n      <td>False</td>\n      <td>...</td>\n      <td>0.000000</td>\n      <td>5</td>\n      <td>5</td>\n      <td>1.000000</td>\n      <td>0</td>\n      <td>0.000000</td>\n      <td>0</td>\n      <td>0.000000</td>\n      <td>0</td>\n      <td>0.000000</td>\n    </tr>\n  </tbody>\n</table>\n<p>3618 rows × 90 columns</p>\n</div>"
     },
     "execution_count": 16,
     "metadata": {},
     "output_type": "execute_result"
    }
   ],
   "source": [
    "overlap.to_csv(root + \"/dataset/overlap.csv\")\n",
    "overlap"
   ],
   "metadata": {
    "collapsed": false,
    "ExecuteTime": {
     "start_time": "2023-04-20T09:30:02.579521Z",
     "end_time": "2023-04-20T09:30:02.747717Z"
    }
   }
  },
  {
   "cell_type": "code",
   "execution_count": 17,
   "outputs": [
    {
     "data": {
      "text/plain": "48256"
     },
     "execution_count": 17,
     "metadata": {},
     "output_type": "execute_result"
    }
   ],
   "source": [
    "acc = get_total_question(in_decals, 34, \">=\")\n",
    "len(acc)"
   ],
   "metadata": {
    "collapsed": false,
    "ExecuteTime": {
     "start_time": "2023-04-20T09:30:06.918263Z",
     "end_time": "2023-04-20T09:30:07.007216Z"
    }
   }
  },
  {
   "cell_type": "code",
   "execution_count": 18,
   "outputs": [
    {
     "data": {
      "text/plain": "(135599, 0.026681612696258822)"
     },
     "execution_count": 18,
     "metadata": {},
     "output_type": "execute_result"
    }
   ],
   "source": [
    "only_in_decals_data = get_total_question(only_in_decals, 3, \">=\")\n",
    "len(only_in_decals_data), len(overlap)/len(only_in_decals_data)"
   ],
   "metadata": {
    "collapsed": false,
    "ExecuteTime": {
     "start_time": "2023-04-20T09:30:10.439910Z",
     "end_time": "2023-04-20T09:30:10.883075Z"
    }
   }
  },
  {
   "cell_type": "code",
   "execution_count": 19,
   "outputs": [
    {
     "data": {
      "text/plain": "(112086, 27131)"
     },
     "execution_count": 19,
     "metadata": {},
     "output_type": "execute_result"
    }
   ],
   "source": [
    "train, valid = train_test_split(only_in_decals_data, train_size=0.8266, random_state=1926)\n",
    "valid = pd.concat([valid, overlap])\n",
    "len(train), len(valid)"
   ],
   "metadata": {
    "collapsed": false,
    "ExecuteTime": {
     "start_time": "2023-04-20T09:30:15.756149Z",
     "end_time": "2023-04-20T09:30:16.081785Z"
    }
   }
  },
  {
   "cell_type": "code",
   "execution_count": 20,
   "outputs": [],
   "source": [
    "train.to_csv(root + \"/dataset/train.csv\")\n",
    "valid.to_csv(root + \"/dataset/valid.csv\")"
   ],
   "metadata": {
    "collapsed": false,
    "ExecuteTime": {
     "start_time": "2023-04-20T09:30:19.058354Z",
     "end_time": "2023-04-20T09:30:21.952314Z"
    }
   }
  },
  {
   "cell_type": "code",
   "execution_count": 21,
   "outputs": [
    {
     "data": {
      "text/plain": "(9096, 1315, 978, 978, 978, 1587, 115, 695, 695, 7690)"
     },
     "execution_count": 21,
     "metadata": {},
     "output_type": "execute_result"
    }
   ],
   "source": [
    "q1, q2, q3, q4, q5, q6, q7, q8, q9, q10 = get_each_question(valid, 34)\n",
    "len(q1), len(q2), len(q3), len(q4), len(q5), len(q6), len(q7), len(q8), len(q9), len(q10)"
   ],
   "metadata": {
    "collapsed": false,
    "ExecuteTime": {
     "start_time": "2023-04-20T09:30:21.993293Z",
     "end_time": "2023-04-20T09:30:21.998278Z"
    }
   }
  },
  {
   "cell_type": "code",
   "execution_count": 22,
   "outputs": [],
   "source": [
    "question_answer_pairs = gz2_pairs\n",
    "dependencies = gz2_and_decals_dependencies\n",
    "schema = Schema(question_answer_pairs, dependencies)\n",
    "label_cols = schema.label_cols\n",
    "def get_galaxy_label(galaxy, label_cols):\n",
    "    # no longer casts to int64, user now responsible in df. If dtype is mixed, will try to infer with infer_objects\n",
    "    return galaxy[label_cols].infer_objects().values.squeeze()  # squeeze for if there's one label_col"
   ],
   "metadata": {
    "collapsed": false,
    "ExecuteTime": {
     "start_time": "2023-04-20T09:30:22.273785Z",
     "end_time": "2023-04-20T09:30:22.273785Z"
    }
   }
  },
  {
   "cell_type": "code",
   "execution_count": 23,
   "outputs": [],
   "source": [
    "func = [\"train\", \"valid\"]\n",
    "dataset = [train, valid]\n",
    "# for i in range(1):\n",
    "for i in range(len(func)):\n",
    "    with open(root + \"/dataset/%s.txt\" % func[i] , \"w\") as w:\n",
    "        # for j in range(2,3):\n",
    "        for j in range(len(dataset[i])):\n",
    "            ra, dec = str(dataset[i].iloc[j, 0]), str(dataset[i].iloc[j, 1]),   # 先拿坐标和标签，这一步仅适用于decals的，sdss匹配的不可以\n",
    "            path = root + \"/dataset/in_decals/agmtn/\" + ra + \"_\" + dec + \".fits\"\n",
    "            if os.path.exists(path):\n",
    "                w.write(path + \" label:\")\n",
    "                for v in get_galaxy_label(dataset[i].iloc[j], label_cols):\n",
    "                    w.write(str(v) + \" \")\n",
    "                w.write(\" \\n\")\n",
    "            else:\n",
    "                print(path.split(\".fits\")[0])"
   ],
   "metadata": {
    "collapsed": false,
    "ExecuteTime": {
     "start_time": "2023-04-20T09:30:23.826554Z",
     "end_time": "2023-04-20T09:31:35.024221Z"
    }
   }
  },
  {
   "cell_type": "code",
   "execution_count": 26,
   "outputs": [],
   "source": [
    "train_sdss = match(df_sdss_mgs, train, 2, [\"in_ra\", \"in_dec\"]).drop(columns=[\"ra\", \"dec\"]).rename(columns={\"in_ra\":\"ra\", \"in_dec\":\"dec\"})\n",
    "valid_sdss = match(df_sdss_mgs, valid, 2, [\"in_ra\", \"in_dec\"]).drop(columns=[\"ra\", \"dec\"]).rename(columns={\"in_ra\":\"ra\", \"in_dec\":\"dec\"})"
   ],
   "metadata": {
    "collapsed": false,
    "ExecuteTime": {
     "start_time": "2023-04-20T09:32:18.678024Z",
     "end_time": "2023-04-20T09:32:46.162065Z"
    }
   }
  },
  {
   "cell_type": "code",
   "execution_count": 27,
   "outputs": [
    {
     "data": {
      "text/plain": "                ra        dec  redshift  elpetro_absmag_r  sersic_nmgy_r  \\\n0       255.791945  21.386024  0.047523        -18.407532      121.15461   \n1       146.189714   0.953666  0.026734        -17.091427      111.06588   \n2       323.650777   0.423026  0.121243        -20.550130      111.64426   \n3       141.424625   1.284698  0.069464        -20.682861      360.29523   \n4       227.719599  28.779508  0.069896        -19.898237      169.27354   \n...            ...        ...       ...               ...            ...   \n111966   31.549623  -0.023739  0.113004        -21.925318      432.11417   \n111967  209.291461   7.238921  0.135322        -21.289719      151.86687   \n111968  169.954668   0.743151  0.069568        -21.425472      878.31824   \n111969  179.365011  -0.934022  0.052162        -18.761251      112.97706   \n111970  165.966986   7.485735  0.104903        -21.820034      428.96896   \n\n        petro_th50  petro_th90  petro_theta     upload_group  \\\n0         1.511694    4.611378     3.369279  active_baseline   \n1         4.975659   12.865334    11.097967       pre_active   \n2         3.570252    9.699334     7.582350  active_baseline   \n3         3.544405    7.763114     7.373400       pre_active   \n4         2.224385    5.540004     4.862905  active_baseline   \n...            ...         ...          ...              ...   \n111966    4.456124   15.784071    12.626719       pre_active   \n111967    1.359357    4.087051     3.118802  active_baseline   \n111968    5.217701   17.845497    13.209347       pre_active   \n111969    2.819223    5.699375     5.538606       pre_active   \n111970    3.840062   13.142800     9.060253       pre_active   \n\n        active_learning_on  ...  spiral_arm_count_cant_tell_fraction  \\\n0                    False  ...                             0.000000   \n1                    False  ...                             0.000000   \n2                    False  ...                             0.333333   \n3                    False  ...                             0.142857   \n4                    False  ...                             0.000000   \n...                    ...  ...                                  ...   \n111966               False  ...                             1.000000   \n111967               False  ...                             0.000000   \n111968               False  ...                             0.000000   \n111969               False  ...                             0.166667   \n111970               False  ...                             0.000000   \n\n       merging_total_votes  merging_none  merging_none_fraction  \\\n0                       10             5               0.500000   \n1                       35            32               0.914286   \n2                        5             3               0.600000   \n3                       37            21               0.567568   \n4                        4             1               0.250000   \n...                    ...           ...                    ...   \n111966                  37             5               0.135135   \n111967                   4             3               0.750000   \n111968                  38            32               0.842105   \n111969                  83            71               0.855422   \n111970                  33            28               0.848485   \n\n        merging_minor_disturbance  merging_minor_disturbance_fraction  \\\n0                               2                            0.200000   \n1                               1                            0.028571   \n2                               2                            0.400000   \n3                              11                            0.297297   \n4                               0                            0.000000   \n...                           ...                                 ...   \n111966                          1                            0.027027   \n111967                          1                            0.250000   \n111968                          5                            0.131579   \n111969                         11                            0.132530   \n111970                          3                            0.090909   \n\n        merging_major_disturbance  merging_major_disturbance_fraction  \\\n0                               1                            0.100000   \n1                               1                            0.028571   \n2                               0                            0.000000   \n3                               4                            0.108108   \n4                               1                            0.250000   \n...                           ...                                 ...   \n111966                          1                            0.027027   \n111967                          0                            0.000000   \n111968                          1                            0.026316   \n111969                          1                            0.012048   \n111970                          2                            0.060606   \n\n        merging_merger  merging_merger_fraction  \n0                    2                 0.200000  \n1                    1                 0.028571  \n2                    0                 0.000000  \n3                    1                 0.027027  \n4                    2                 0.500000  \n...                ...                      ...  \n111966              23                 0.621622  \n111967               0                 0.000000  \n111968               0                 0.000000  \n111969               0                 0.000000  \n111970               0                 0.000000  \n\n[111971 rows x 90 columns]",
      "text/html": "<div>\n<style scoped>\n    .dataframe tbody tr th:only-of-type {\n        vertical-align: middle;\n    }\n\n    .dataframe tbody tr th {\n        vertical-align: top;\n    }\n\n    .dataframe thead th {\n        text-align: right;\n    }\n</style>\n<table border=\"1\" class=\"dataframe\">\n  <thead>\n    <tr style=\"text-align: right;\">\n      <th></th>\n      <th>ra</th>\n      <th>dec</th>\n      <th>redshift</th>\n      <th>elpetro_absmag_r</th>\n      <th>sersic_nmgy_r</th>\n      <th>petro_th50</th>\n      <th>petro_th90</th>\n      <th>petro_theta</th>\n      <th>upload_group</th>\n      <th>active_learning_on</th>\n      <th>...</th>\n      <th>spiral_arm_count_cant_tell_fraction</th>\n      <th>merging_total_votes</th>\n      <th>merging_none</th>\n      <th>merging_none_fraction</th>\n      <th>merging_minor_disturbance</th>\n      <th>merging_minor_disturbance_fraction</th>\n      <th>merging_major_disturbance</th>\n      <th>merging_major_disturbance_fraction</th>\n      <th>merging_merger</th>\n      <th>merging_merger_fraction</th>\n    </tr>\n  </thead>\n  <tbody>\n    <tr>\n      <th>0</th>\n      <td>255.791945</td>\n      <td>21.386024</td>\n      <td>0.047523</td>\n      <td>-18.407532</td>\n      <td>121.15461</td>\n      <td>1.511694</td>\n      <td>4.611378</td>\n      <td>3.369279</td>\n      <td>active_baseline</td>\n      <td>False</td>\n      <td>...</td>\n      <td>0.000000</td>\n      <td>10</td>\n      <td>5</td>\n      <td>0.500000</td>\n      <td>2</td>\n      <td>0.200000</td>\n      <td>1</td>\n      <td>0.100000</td>\n      <td>2</td>\n      <td>0.200000</td>\n    </tr>\n    <tr>\n      <th>1</th>\n      <td>146.189714</td>\n      <td>0.953666</td>\n      <td>0.026734</td>\n      <td>-17.091427</td>\n      <td>111.06588</td>\n      <td>4.975659</td>\n      <td>12.865334</td>\n      <td>11.097967</td>\n      <td>pre_active</td>\n      <td>False</td>\n      <td>...</td>\n      <td>0.000000</td>\n      <td>35</td>\n      <td>32</td>\n      <td>0.914286</td>\n      <td>1</td>\n      <td>0.028571</td>\n      <td>1</td>\n      <td>0.028571</td>\n      <td>1</td>\n      <td>0.028571</td>\n    </tr>\n    <tr>\n      <th>2</th>\n      <td>323.650777</td>\n      <td>0.423026</td>\n      <td>0.121243</td>\n      <td>-20.550130</td>\n      <td>111.64426</td>\n      <td>3.570252</td>\n      <td>9.699334</td>\n      <td>7.582350</td>\n      <td>active_baseline</td>\n      <td>False</td>\n      <td>...</td>\n      <td>0.333333</td>\n      <td>5</td>\n      <td>3</td>\n      <td>0.600000</td>\n      <td>2</td>\n      <td>0.400000</td>\n      <td>0</td>\n      <td>0.000000</td>\n      <td>0</td>\n      <td>0.000000</td>\n    </tr>\n    <tr>\n      <th>3</th>\n      <td>141.424625</td>\n      <td>1.284698</td>\n      <td>0.069464</td>\n      <td>-20.682861</td>\n      <td>360.29523</td>\n      <td>3.544405</td>\n      <td>7.763114</td>\n      <td>7.373400</td>\n      <td>pre_active</td>\n      <td>False</td>\n      <td>...</td>\n      <td>0.142857</td>\n      <td>37</td>\n      <td>21</td>\n      <td>0.567568</td>\n      <td>11</td>\n      <td>0.297297</td>\n      <td>4</td>\n      <td>0.108108</td>\n      <td>1</td>\n      <td>0.027027</td>\n    </tr>\n    <tr>\n      <th>4</th>\n      <td>227.719599</td>\n      <td>28.779508</td>\n      <td>0.069896</td>\n      <td>-19.898237</td>\n      <td>169.27354</td>\n      <td>2.224385</td>\n      <td>5.540004</td>\n      <td>4.862905</td>\n      <td>active_baseline</td>\n      <td>False</td>\n      <td>...</td>\n      <td>0.000000</td>\n      <td>4</td>\n      <td>1</td>\n      <td>0.250000</td>\n      <td>0</td>\n      <td>0.000000</td>\n      <td>1</td>\n      <td>0.250000</td>\n      <td>2</td>\n      <td>0.500000</td>\n    </tr>\n    <tr>\n      <th>...</th>\n      <td>...</td>\n      <td>...</td>\n      <td>...</td>\n      <td>...</td>\n      <td>...</td>\n      <td>...</td>\n      <td>...</td>\n      <td>...</td>\n      <td>...</td>\n      <td>...</td>\n      <td>...</td>\n      <td>...</td>\n      <td>...</td>\n      <td>...</td>\n      <td>...</td>\n      <td>...</td>\n      <td>...</td>\n      <td>...</td>\n      <td>...</td>\n      <td>...</td>\n      <td>...</td>\n    </tr>\n    <tr>\n      <th>111966</th>\n      <td>31.549623</td>\n      <td>-0.023739</td>\n      <td>0.113004</td>\n      <td>-21.925318</td>\n      <td>432.11417</td>\n      <td>4.456124</td>\n      <td>15.784071</td>\n      <td>12.626719</td>\n      <td>pre_active</td>\n      <td>False</td>\n      <td>...</td>\n      <td>1.000000</td>\n      <td>37</td>\n      <td>5</td>\n      <td>0.135135</td>\n      <td>1</td>\n      <td>0.027027</td>\n      <td>1</td>\n      <td>0.027027</td>\n      <td>23</td>\n      <td>0.621622</td>\n    </tr>\n    <tr>\n      <th>111967</th>\n      <td>209.291461</td>\n      <td>7.238921</td>\n      <td>0.135322</td>\n      <td>-21.289719</td>\n      <td>151.86687</td>\n      <td>1.359357</td>\n      <td>4.087051</td>\n      <td>3.118802</td>\n      <td>active_baseline</td>\n      <td>False</td>\n      <td>...</td>\n      <td>0.000000</td>\n      <td>4</td>\n      <td>3</td>\n      <td>0.750000</td>\n      <td>1</td>\n      <td>0.250000</td>\n      <td>0</td>\n      <td>0.000000</td>\n      <td>0</td>\n      <td>0.000000</td>\n    </tr>\n    <tr>\n      <th>111968</th>\n      <td>169.954668</td>\n      <td>0.743151</td>\n      <td>0.069568</td>\n      <td>-21.425472</td>\n      <td>878.31824</td>\n      <td>5.217701</td>\n      <td>17.845497</td>\n      <td>13.209347</td>\n      <td>pre_active</td>\n      <td>False</td>\n      <td>...</td>\n      <td>0.000000</td>\n      <td>38</td>\n      <td>32</td>\n      <td>0.842105</td>\n      <td>5</td>\n      <td>0.131579</td>\n      <td>1</td>\n      <td>0.026316</td>\n      <td>0</td>\n      <td>0.000000</td>\n    </tr>\n    <tr>\n      <th>111969</th>\n      <td>179.365011</td>\n      <td>-0.934022</td>\n      <td>0.052162</td>\n      <td>-18.761251</td>\n      <td>112.97706</td>\n      <td>2.819223</td>\n      <td>5.699375</td>\n      <td>5.538606</td>\n      <td>pre_active</td>\n      <td>False</td>\n      <td>...</td>\n      <td>0.166667</td>\n      <td>83</td>\n      <td>71</td>\n      <td>0.855422</td>\n      <td>11</td>\n      <td>0.132530</td>\n      <td>1</td>\n      <td>0.012048</td>\n      <td>0</td>\n      <td>0.000000</td>\n    </tr>\n    <tr>\n      <th>111970</th>\n      <td>165.966986</td>\n      <td>7.485735</td>\n      <td>0.104903</td>\n      <td>-21.820034</td>\n      <td>428.96896</td>\n      <td>3.840062</td>\n      <td>13.142800</td>\n      <td>9.060253</td>\n      <td>pre_active</td>\n      <td>False</td>\n      <td>...</td>\n      <td>0.000000</td>\n      <td>33</td>\n      <td>28</td>\n      <td>0.848485</td>\n      <td>3</td>\n      <td>0.090909</td>\n      <td>2</td>\n      <td>0.060606</td>\n      <td>0</td>\n      <td>0.000000</td>\n    </tr>\n  </tbody>\n</table>\n<p>111971 rows × 90 columns</p>\n</div>"
     },
     "execution_count": 27,
     "metadata": {},
     "output_type": "execute_result"
    }
   ],
   "source": [
    "train_sdss"
   ],
   "metadata": {
    "collapsed": false,
    "ExecuteTime": {
     "start_time": "2023-04-20T09:32:46.162065Z",
     "end_time": "2023-04-20T09:32:46.164378Z"
    }
   }
  },
  {
   "cell_type": "code",
   "execution_count": 28,
   "outputs": [],
   "source": [
    "func = [\"train\", \"valid\"]\n",
    "dataset = [train_sdss, valid_sdss]\n",
    "# for i in range(1):\n",
    "for i in range(len(func)):\n",
    "    with open(root + \"/dataset/%s_sdss.txt\" % func[i] , \"w\") as w:\n",
    "        # for j in range(2,3):\n",
    "        for j in range(len(dataset[i])):\n",
    "            ra, dec = str(dataset[i].iloc[j, 0]), str(dataset[i].iloc[j, 1]),   # 先拿坐标和标签，这一步仅适用于decals的，sdss匹配的不可以\n",
    "            path = root + \"/dataset/sdss/integration/\" + ra + \"_\" + dec + \".fits\"\n",
    "            if os.path.exists(path):\n",
    "                w.write(path + \" label:\")\n",
    "                for v in get_galaxy_label(dataset[i].iloc[j], label_cols):\n",
    "                    w.write(str(v) + \" \")\n",
    "                w.write(\" \\n\")\n",
    "            else:\n",
    "                print(path.split(\".fits\")[0])"
   ],
   "metadata": {
    "collapsed": false,
    "ExecuteTime": {
     "start_time": "2023-04-20T09:33:35.906040Z",
     "end_time": "2023-04-20T09:34:46.941181Z"
    }
   }
  },
  {
   "cell_type": "code",
   "execution_count": 29,
   "outputs": [],
   "source": [
    "overlap_train, overlap_valid = train_test_split(overlap, train_size=0.6, random_state=1926)\n",
    "overlap_train_sdss = match(df_sdss_mgs, overlap_train, 2, [\"in_ra\", \"in_dec\"]).drop(columns=[\"ra\", \"dec\"]).rename(columns={\"in_ra\":\"ra\", \"in_dec\":\"dec\"})\n",
    "overlap_valid_sdss = match(df_sdss_mgs, overlap_valid, 2, [\"in_ra\", \"in_dec\"]).drop(columns=[\"ra\", \"dec\"]).rename(columns={\"in_ra\":\"ra\", \"in_dec\":\"dec\"})"
   ],
   "metadata": {
    "collapsed": false,
    "ExecuteTime": {
     "start_time": "2023-04-20T09:35:05.275076Z",
     "end_time": "2023-04-20T09:35:26.757718Z"
    }
   }
  },
  {
   "cell_type": "code",
   "execution_count": 30,
   "outputs": [],
   "source": [
    "func = [\"overlap_train\", \"overlap_valid\"]\n",
    "dataset = [overlap_train, overlap_valid]\n",
    "# for i in range(1):\n",
    "for i in range(len(func)):\n",
    "    with open(root + \"/dataset/%s.txt\" % func[i] , \"w\") as w:\n",
    "        # for j in range(2,3):\n",
    "        for j in range(len(dataset[i])):\n",
    "            ra, dec = str(dataset[i].iloc[j, 0]), str(dataset[i].iloc[j, 1]),   # 先拿坐标和标签，这一步仅适用于decals的，sdss匹配的不可以\n",
    "            path = root + \"/dataset/out_decals/scaled/\" + ra + \"_\" + dec + \".fits\"\n",
    "            if os.path.exists(path):\n",
    "                w.write(path + \" label:\")\n",
    "                for v in get_galaxy_label(dataset[i].iloc[j], label_cols):\n",
    "                    w.write(str(v) + \" \")\n",
    "                w.write(\" \\n\")\n",
    "            else:\n",
    "                print(path.split(\".fits\")[0])"
   ],
   "metadata": {
    "collapsed": false,
    "ExecuteTime": {
     "start_time": "2023-04-20T09:35:26.800691Z",
     "end_time": "2023-04-20T09:35:28.641074Z"
    }
   }
  },
  {
   "cell_type": "code",
   "execution_count": 31,
   "outputs": [],
   "source": [
    "func = [\"overlap_train\", \"overlap_valid\"]\n",
    "dataset = [overlap_train_sdss, overlap_valid_sdss]\n",
    "# for i in range(1):\n",
    "for i in range(len(func)):\n",
    "    with open(root + \"/dataset/%s_sdss.txt\" % func[i] , \"w\") as w:\n",
    "        # for j in range(2,3):\n",
    "        for j in range(len(dataset[i])):\n",
    "            ra, dec = str(dataset[i].iloc[j, 0]), str(dataset[i].iloc[j, 1]),   # 先拿坐标和标签，这一步仅适用于decals的，sdss匹配的不可以\n",
    "            path = root + \"/dataset/sdss/integration/\" + ra + \"_\" + dec + \".fits\"\n",
    "            if os.path.exists(path):\n",
    "                w.write(path + \" label:\")\n",
    "                for v in get_galaxy_label(dataset[i].iloc[j], label_cols):\n",
    "                    w.write(str(v) + \" \")\n",
    "                w.write(\" \\n\")\n",
    "            else:\n",
    "                print(path.split(\".fits\")[0])"
   ],
   "metadata": {
    "collapsed": false,
    "ExecuteTime": {
     "start_time": "2023-04-20T09:35:28.634534Z",
     "end_time": "2023-04-20T09:35:30.492508Z"
    }
   }
  },
  {
   "cell_type": "code",
   "execution_count": 10,
   "outputs": [],
   "source": [
    "func = [\"acc\"]\n",
    "dataset = [acc]\n",
    "# for i in range(1):\n",
    "for i in range(len(func)):\n",
    "    with open(\"/data/renhaoye/MorCG_DECaLS/dataset/mw_%s.txt\" % func[i] , \"w\") as w:\n",
    "        # for j in range(2,3):\n",
    "        for j in range(len(dataset[i])):\n",
    "            ra, dec = str(dataset[i].iloc[j, 0]), str(dataset[i].iloc[j, 1]),   # 先拿坐标和标签，这一步仅适用于decals的，sdss匹配的不可以\n",
    "            path = \"/data/renhaoye/MorCG/dataset/in_decals/agmtn/\" + ra + \"_\" + dec + \".fits\"\n",
    "            if os.path.exists(path):\n",
    "                w.write(path + \" label:\")\n",
    "                for v in get_galaxy_label(dataset[i].iloc[j], label_cols):\n",
    "                    w.write(str(v) + \" \")\n",
    "                w.write(\" \\n\")\n",
    "            else:\n",
    "                print(path.split(\".fits\")[0])"
   ],
   "metadata": {
    "collapsed": false
   }
  },
  {
   "cell_type": "code",
   "execution_count": null,
   "outputs": [],
   "source": [],
   "metadata": {
    "collapsed": false
   }
  }
 ],
 "metadata": {
  "kernelspec": {
   "display_name": "Python 3",
   "language": "python",
   "name": "python3"
  },
  "language_info": {
   "codemirror_mode": {
    "name": "ipython",
    "version": 2
   },
   "file_extension": ".py",
   "mimetype": "text/x-python",
   "name": "python",
   "nbconvert_exporter": "python",
   "pygments_lexer": "ipython2",
   "version": "2.7.6"
  }
 },
 "nbformat": 4,
 "nbformat_minor": 0
}
