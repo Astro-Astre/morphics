{
 "cells": [
  {
   "cell_type": "code",
   "execution_count": 1,
   "metadata": {
    "collapsed": true,
    "ExecuteTime": {
     "start_time": "2023-04-21T08:36:07.821166Z",
     "end_time": "2023-04-21T08:36:07.821166Z"
    }
   },
   "outputs": [],
   "source": [
    "# 制作数据集\n",
    "import sys\n",
    "import os\n",
    "root = \"/data/public/renhaoye/morphics/\"\n",
    "subdirs = [os.path.join(root, d) for d in os.listdir(root) if os.path.isdir(os.path.join(root, d))]\n",
    "for subdir in subdirs:\n",
    "    sys.path.append(subdir)"
   ]
  },
  {
   "cell_type": "code",
   "execution_count": 11,
   "outputs": [
    {
     "data": {
      "text/plain": "torch.Size([3, 256, 256])"
     },
     "execution_count": 11,
     "metadata": {},
     "output_type": "execute_result"
    }
   ],
   "source": [
    "import torch.nn as nn\n",
    "import torch\n",
    "import torch.nn.functional as F\n",
    "import random\n",
    "from torch.backends import cudnn\n",
    "from dataset.galaxy_dataset import *\n",
    "from torch.utils.tensorboard import SummaryWriter\n",
    "from torch.utils.data import DataLoader, Subset\n",
    "from utils import schemas\n",
    "from training import losses, metrics\n",
    "import argparse\n",
    "from utils.utils import *\n",
    "from torchvision.models import *\n",
    "from bayesian_torch.models.dnn_to_bnn import dnn_to_bnn, get_kl_loss\n",
    "from models.morphics import Morphics\n",
    "from torch.optim.lr_scheduler import ReduceLROnPlateau\n",
    "from models.utils import *\n",
    "img = torch.Tensor(load_img(\"/data/public/renhaoye/morphics/dataset/in_decals/agmtn/119.85429851358965_28.803799075693085.fits\"))\n",
    "# img = img.unsqueeze(0)\n",
    "img.shape"
   ],
   "metadata": {
    "collapsed": false,
    "ExecuteTime": {
     "start_time": "2023-04-21T08:42:47.469743Z",
     "end_time": "2023-04-21T08:42:47.513267Z"
    }
   }
  },
  {
   "cell_type": "code",
   "execution_count": 12,
   "outputs": [],
   "source": [
    "model = torch.load(\"/data/public/renhaoye/morphics/pth1/model_1.pt\")"
   ],
   "metadata": {
    "collapsed": false,
    "ExecuteTime": {
     "start_time": "2023-04-21T08:42:51.562024Z",
     "end_time": "2023-04-21T08:42:52.075981Z"
    }
   }
  },
  {
   "cell_type": "code",
   "execution_count": 14,
   "outputs": [],
   "source": [
    "predict, stn = model(img.unsqueeze(0).cuda())\n",
    "fits.writeto(f'/data/public/renhaoye//1.fits', stn[0].cpu().detach().numpy(), overwrite=True)"
   ],
   "metadata": {
    "collapsed": false,
    "ExecuteTime": {
     "start_time": "2023-04-21T08:45:23.119575Z",
     "end_time": "2023-04-21T08:45:23.184754Z"
    }
   }
  },
  {
   "cell_type": "code",
   "execution_count": 7,
   "outputs": [],
   "source": [
    "question_answer_pairs = gz2_pairs\n",
    "dependencies = gz2_and_decals_dependencies\n",
    "schema = schemas.Schema(question_answer_pairs, dependencies)\n",
    "predict = softmax_output(predict,schema.question_index_groups)"
   ],
   "metadata": {
    "collapsed": false,
    "ExecuteTime": {
     "start_time": "2023-04-21T07:52:17.858243Z",
     "end_time": "2023-04-21T07:52:17.860302Z"
    }
   }
  },
  {
   "cell_type": "code",
   "execution_count": 15,
   "outputs": [
    {
     "data": {
      "text/plain": "tensor([[ 0.4397,  0.4485, -0.3532, -1.1289,  1.1948, -0.2392,  0.0175, -0.7089,\n          0.1281,  1.3058, -0.8664, -0.5173,  1.2402,  1.1093, -0.7388, -0.2065,\n          0.0655, -0.8323, -0.5023,  0.2214,  1.5271,  0.6526,  0.5741, -0.7883,\n         -0.6598,  1.7232, -0.9318, -1.3321, -0.3257,  0.3750,  2.5532,  0.9620,\n         -1.6030, -0.9275]], device='cuda:0', grad_fn=<AddBackward0>)"
     },
     "execution_count": 15,
     "metadata": {},
     "output_type": "execute_result"
    }
   ],
   "source": [
    "predict"
   ],
   "metadata": {
    "collapsed": false,
    "ExecuteTime": {
     "start_time": "2023-04-21T08:47:38.452054Z",
     "end_time": "2023-04-21T08:47:38.500705Z"
    }
   }
  },
  {
   "cell_type": "code",
   "execution_count": 17,
   "outputs": [],
   "source": [
    "pred_mnist, epi_mnist_norm, ale_mnist_norm = get_uncertainty_per_image(model, img.cuda(), T=10, normalized=True)"
   ],
   "metadata": {
    "collapsed": false,
    "ExecuteTime": {
     "start_time": "2023-04-21T07:59:57.112990Z",
     "end_time": "2023-04-21T07:59:57.220900Z"
    }
   }
  },
  {
   "cell_type": "code",
   "execution_count": 18,
   "outputs": [
    {
     "data": {
      "text/plain": "array([ 6.1986589e-01,  2.0184496e-01, -1.4715673e+00, -7.7971363e-01,\n        6.9392610e-01,  2.2599626e-01, -2.0834167e-01, -9.6987319e-01,\n       -1.1796487e-01,  8.3403474e-01, -2.5028355e+00, -5.7288098e-01,\n        9.3109423e-01,  7.5418860e-01, -1.1366481e+00,  1.2420118e-04,\n        5.2260745e-01, -8.3282900e-01, -1.1405461e+00, -3.4915301e-01,\n        1.0287037e+00,  4.4249696e-01,  1.6260603e-01, -3.6677971e-01,\n       -1.1561434e+00,  1.3320980e+00, -4.6493351e-01, -1.6384544e+00,\n       -2.6482787e+00,  4.7209993e-01,  1.4303304e+00, -4.2549528e-02,\n       -1.3607514e+00, -1.2942281e+00], dtype=float32)"
     },
     "execution_count": 18,
     "metadata": {},
     "output_type": "execute_result"
    }
   ],
   "source": [
    "pred_mnist"
   ],
   "metadata": {
    "collapsed": false,
    "ExecuteTime": {
     "start_time": "2023-04-21T07:59:57.963173Z",
     "end_time": "2023-04-21T07:59:57.987890Z"
    }
   }
  },
  {
   "cell_type": "code",
   "execution_count": 19,
   "outputs": [
    {
     "data": {
      "text/plain": "tensor([ 60.6979,  40.3021,   0.0000, 100.0000,   0.0000, 100.0000,   0.0000,\n         30.6042,  70.3958,   0.0000,   2.5264,  11.5155,  48.3149,  40.6432,\n          0.0000,  37.8549,  63.1451,   0.0000,  31.8751,  69.1249,   0.0000,\n         57.3824,  43.6176,   0.0000,   7.2349,  76.0683,  13.4456,   4.8491,\n          2.4022,   0.0000,  77.7074,  18.5863,   5.7064,   0.0000])"
     },
     "execution_count": 19,
     "metadata": {},
     "output_type": "execute_result"
    }
   ],
   "source": [
    "question_answer_pairs = gz2_pairs\n",
    "dependencies = gz2_and_decals_dependencies\n",
    "schema = schemas.Schema(question_answer_pairs, dependencies)\n",
    "pred_mnist = softmax_output(torch.Tensor(pred_mnist,schema.question_index_groups)\n",
    "pred_mnist"
   ],
   "metadata": {
    "collapsed": false,
    "ExecuteTime": {
     "start_time": "2023-04-21T07:59:59.828936Z",
     "end_time": "2023-04-21T07:59:59.832939Z"
    }
   }
  },
  {
   "cell_type": "code",
   "execution_count": 20,
   "outputs": [
    {
     "data": {
      "text/plain": "array([1.7033335e-08, 1.6753219e-07, 5.5029257e-09, 1.5647780e-07,\n       3.2251464e-08, 1.8313497e-07, 1.7248030e-07, 2.9690239e-07,\n       2.4569706e-06, 1.7428664e-07, 2.0172670e-06, 5.1425877e-13,\n       2.9239136e-08, 5.5045973e-08, 1.0053172e-07, 2.4659010e-07,\n       2.0776032e-08, 1.0866687e-08, 3.7976289e-08, 3.5593781e-09,\n       1.1430995e-08, 1.6909146e-06, 2.3880619e-07, 1.8421627e-08,\n       9.2632142e-08, 1.3757867e-07, 8.0269942e-08, 3.5363635e-06,\n       8.3060506e-08, 9.3242562e-08, 1.9771420e-07, 4.2517727e-09,\n       4.4667114e-08, 1.7839776e-08], dtype=float32)"
     },
     "execution_count": 20,
     "metadata": {},
     "output_type": "execute_result"
    }
   ],
   "source": [],
   "metadata": {
    "collapsed": false,
    "ExecuteTime": {
     "start_time": "2023-04-21T08:00:00.717846Z",
     "end_time": "2023-04-21T08:00:00.722728Z"
    }
   }
  }
 ],
 "metadata": {
  "kernelspec": {
   "display_name": "Python 3",
   "language": "python",
   "name": "python3"
  },
  "language_info": {
   "codemirror_mode": {
    "name": "ipython",
    "version": 2
   },
   "file_extension": ".py",
   "mimetype": "text/x-python",
   "name": "python",
   "nbconvert_exporter": "python",
   "pygments_lexer": "ipython2",
   "version": "2.7.6"
  }
 },
 "nbformat": 4,
 "nbformat_minor": 0
}
