{
 "cells": [
  {
   "cell_type": "code",
   "execution_count": 1,
   "outputs": [],
   "source": [
    "import torch"
   ],
   "metadata": {
    "collapsed": false,
    "ExecuteTime": {
     "end_time": "2023-05-16T06:54:08.320741700Z",
     "start_time": "2023-05-16T06:54:07.113577800Z"
    }
   }
  },
  {
   "cell_type": "code",
   "execution_count": 2,
   "outputs": [],
   "source": [
    "%matplotlib inline\n",
    "import numpy as np\n",
    "import matplotlib.pyplot as plt\n",
    "import matplotlib.tri as tri\n",
    "\n",
    "#生成等边三角形\n",
    "corners = np.array([[0, 0], [1, 0], [0.5, 0.75**0.5]])\n",
    "triangle = tri.Triangulation(corners[:, 0], corners[:, 1])\n",
    "\n",
    "#每条边中点位置\n",
    "midpoints = [(corners[(i + 1) % 3] + corners[(i + 2) % 3]) / 2.0 for i in range(3)]\n",
    "\n",
    "def xy2bc(xy, tol=1.e-3):\n",
    "    #将三角形顶点的笛卡尔坐标映射到重心坐标系\n",
    "    s = [(corners[i] - midpoints[i]).dot(xy - midpoints[i]) / 0.75 for i in range(3)]\n",
    "    return np.clip(s, tol, 1.0 - tol)\n",
    "\n",
    "#有了重心坐标，可以计算Dirichlet概率密度函数的值\n",
    "class Dirichlet(object):\n",
    "\n",
    "    def __init__(self, alpha):\n",
    "        from math import gamma\n",
    "        from operator import mul\n",
    "        from functools import reduce\n",
    "        self._alpha = np.array(alpha)\n",
    "        self._coef = gamma(np.sum(self._alpha)) / reduce(mul, [gamma(a) for a in self._alpha]) #reduce:sequence连续使用function\n",
    "\n",
    "    def pdf(self, x):\n",
    "        #返回概率密度函数值\n",
    "        from operator import mul\n",
    "        from functools import reduce\n",
    "        return self._coef * reduce(mul, [xx ** (aa - 1) for (xx, aa)in zip(x, self._alpha)])\n",
    "\n",
    "def draw_pdf_contours(dist, nlevels=200, subdiv=8, **kwargs):\n",
    "    import math\n",
    "\n",
    "    #细分等边三角形网格\n",
    "    refiner = tri.UniformTriRefiner(triangle)\n",
    "    trimesh = refiner.refine_triangulation(subdiv=subdiv)\n",
    "    pvals = [dist.pdf(xy2bc(xy)) for xy in zip(trimesh.x, trimesh.y)]\n",
    "\n",
    "    plt.tricontourf(trimesh, pvals, nlevels, **kwargs)\n",
    "    plt.axis('equal')\n",
    "    plt.xlim(0, 1)\n",
    "    plt.ylim(0, 0.75**0.5)\n",
    "    plt.axis('off')"
   ],
   "metadata": {
    "collapsed": false,
    "ExecuteTime": {
     "end_time": "2023-05-16T06:54:08.608598900Z",
     "start_time": "2023-05-16T06:54:08.330245200Z"
    }
   }
  },
  {
   "cell_type": "code",
   "execution_count": 81,
   "outputs": [],
   "source": [
    "ex = torch.from_numpy(np.array([-1.4359, 0.1868,  1.0484]))"
   ],
   "metadata": {
    "collapsed": false
   }
  },
  {
   "cell_type": "code",
   "execution_count": 82,
   "outputs": [
    {
     "data": {
      "text/plain": "tensor([0.1922, 0.5466, 0.7405], dtype=torch.float64)"
     },
     "execution_count": 82,
     "metadata": {},
     "output_type": "execute_result"
    }
   ],
   "source": [
    "torch.sigmoid(ex)"
   ],
   "metadata": {
    "collapsed": false
   }
  },
  {
   "cell_type": "code",
   "execution_count": 87,
   "outputs": [
    {
     "data": {
      "text/plain": "tensor([ 6.4819, 28.7754, 66.7428], dtype=torch.float64)"
     },
     "execution_count": 87,
     "metadata": {},
     "output_type": "execute_result"
    }
   ],
   "source": [
    "torch.softmax(ex, dim=0)*99 + 1"
   ],
   "metadata": {
    "collapsed": false
   }
  },
  {
   "cell_type": "code",
   "execution_count": 64,
   "outputs": [
    {
     "data": {
      "text/plain": "<Figure size 640x480 with 1 Axes>",
      "image/png": "[encoded data removed]"
     },
     "metadata": {},
     "output_type": "display_data"
    }
   ],
   "source": [
    "draw_pdf_contours(Dirichlet([1, 100, 1]))"
   ],
   "metadata": {
    "collapsed": false,
    "ExecuteTime": {
     "start_time": "2023-05-16T08:43:56.135463Z",
     "end_time": "2023-05-16T08:43:57.239688Z"
    }
   }
  },
  {
   "cell_type": "code",
   "execution_count": 3,
   "metadata": {
    "collapsed": true,
    "ExecuteTime": {
     "end_time": "2023-05-16T06:54:09.383566500Z",
     "start_time": "2023-05-16T06:54:08.611600600Z"
    }
   },
   "outputs": [],
   "source": [
    "# 制作数据集\n",
    "import sys\n",
    "import os\n",
    "root = \"/data/public/renhaoye/morphics/\"\n",
    "subdirs = [os.path.join(root, d) for d in os.listdir(root) if os.path.isdir(os.path.join(root, d))]\n",
    "for subdir in subdirs:\n",
    "    sys.path.append(subdir)\n",
    "from dataset.galaxy_dataset import *\n",
    "from utils import schemas\n",
    "from utils.utils import *\n",
    "from models.utils import *\n",
    "import random\n",
    "from torch.backends import cudnn\n",
    "def init_rand_seed(rand_seed):\n",
    "    torch.manual_seed(rand_seed)\n",
    "    torch.cuda.manual_seed(rand_seed)  # 为当前GPU设置随机种子\n",
    "    torch.cuda.manual_seed_all(rand_seed)  # 为所有GPU设置随机种子\n",
    "    np.random.seed(rand_seed)\n",
    "    random.seed(rand_seed)\n",
    "    cudnn.benchmark = False\n",
    "    cudnn.deterministic = True\n",
    "init_rand_seed(1926)\n",
    "question_answer_pairs = gz2_pairs\n",
    "dependencies = gz2_and_decals_dependencies\n",
    "schema = schemas.Schema(question_answer_pairs, dependencies)"
   ]
  },
  {
   "cell_type": "code",
   "execution_count": 4,
   "outputs": [
    {
     "data": {
      "text/plain": "torch.Size([3, 256, 256])"
     },
     "execution_count": 4,
     "metadata": {},
     "output_type": "execute_result"
    }
   ],
   "source": [
    "img = torch.Tensor(load_img(\"/data/public/renhaoye/morphics/dataset/in_decals/agmtn/119.85429851358965_28.803799075693085.fits\"))\n",
    "model = torch.load(\"/data/public/renhaoye/morphics/pth/model_65.pt\", map_location=\"cuda:0\")\n",
    "img.shape"
   ],
   "metadata": {
    "collapsed": false,
    "ExecuteTime": {
     "end_time": "2023-05-16T06:54:18.237722700Z",
     "start_time": "2023-05-16T06:54:16.384082200Z"
    }
   }
  },
  {
   "cell_type": "code",
   "execution_count": 20,
   "outputs": [
    {
     "data": {
      "text/plain": "tensor([[-0.3994,  1.3372, -1.8798, -1.9430,  2.1300,  1.3059, -1.3460, -2.0077,\n          0.3053,  1.6144, -5.7010, -2.6987,  0.5484,  2.0159, -1.4663,  0.6666,\n          0.9039, -2.6334, -1.3481,  0.0376,  0.5895,  1.0647, -0.0344, -1.4396,\n         -2.3682,  0.4567,  0.3034, -0.7039, -0.9740,  0.8007,  1.4854,  0.3862,\n         -1.0090, -1.5029]], device='cuda:0', grad_fn=<AddBackward0>)"
     },
     "execution_count": 20,
     "metadata": {},
     "output_type": "execute_result"
    }
   ],
   "source": [
    "predict, stn= model(img.unsqueeze(0).to(\"cuda:0\"))\n",
    "# fits.writeto(f'/data/public/renhaoye/pth.fits', stn[0].cpu().detach().numpy(), overwrite=True)\n",
    "predict"
   ],
   "metadata": {
    "collapsed": false,
    "ExecuteTime": {
     "end_time": "2023-05-16T06:28:01.843912600Z",
     "start_time": "2023-05-16T06:28:01.745385800Z"
    }
   }
  },
  {
   "cell_type": "code",
   "execution_count": 11,
   "outputs": [
    {
     "data": {
      "text/plain": "tensor([[ 21.3821,  79.6179,   0.0000, 100.0000,   0.0000, 100.0000,   0.0000,\n          10.3456,  90.6544,   0.0000,   1.0818,   2.2423,  25.7322,  73.9438,\n           0.0000,  13.4289,  87.5711,   0.0000,  17.0320,  83.9680,   0.0000,\n          70.6282,  30.3718,   0.0000,   4.8940,  49.2053,  32.7035,  11.8324,\n           5.3648,   0.0000,  59.3840,  31.1927,  11.4234,   0.0000]],\n       device='cuda:0', grad_fn=<CopySlices>)"
     },
     "execution_count": 11,
     "metadata": {},
     "output_type": "execute_result"
    }
   ],
   "source": [
    "predict = softmax_output(predict,schema.question_index_groups)\n",
    "predict"
   ],
   "metadata": {
    "collapsed": false,
    "ExecuteTime": {
     "end_time": "2023-05-16T05:59:35.817725400Z",
     "start_time": "2023-05-16T05:59:35.796510500Z"
    }
   }
  },
  {
   "cell_type": "code",
   "execution_count": 7,
   "outputs": [],
   "source": [
    "output_ = []\n",
    "for mc_run in range(100):\n",
    "    output, _ = model(img.unsqueeze(0).to(\"cuda:0\"))\n",
    "    output_.append(softmax_output(output,schema.question_index_groups))\n",
    "predict = torch.mean(torch.stack(output_), dim=0)"
   ],
   "metadata": {
    "collapsed": false,
    "ExecuteTime": {
     "end_time": "2023-05-16T06:41:01.012886900Z",
     "start_time": "2023-05-16T06:40:46.289851800Z"
    }
   }
  },
  {
   "cell_type": "code",
   "execution_count": 8,
   "outputs": [
    {
     "data": {
      "text/plain": "tensor([[1.8373e-01, 8.1627e-01, 0.0000e+00, 1.0000e+00, 0.0000e+00, 1.0000e+00,\n         0.0000e+00, 9.4517e-02, 9.0548e-01, 0.0000e+00, 3.9221e-04, 8.5420e-03,\n         2.6249e-01, 7.2858e-01, 0.0000e+00, 4.3372e-01, 5.6628e-01, 0.0000e+00,\n         2.4300e-01, 7.5700e-01, 0.0000e+00, 7.3903e-01, 2.6097e-01, 0.0000e+00,\n         2.2968e-02, 3.4617e-01, 3.8609e-01, 1.7332e-01, 7.1457e-02, 0.0000e+00,\n         7.2108e-01, 2.3048e-01, 4.8438e-02, 0.0000e+00]], device='cuda:0',\n       grad_fn=<MeanBackward1>)"
     },
     "execution_count": 8,
     "metadata": {},
     "output_type": "execute_result"
    }
   ],
   "source": [
    "predict"
   ],
   "metadata": {
    "collapsed": false,
    "ExecuteTime": {
     "end_time": "2023-05-16T06:42:10.113366100Z",
     "start_time": "2023-05-16T06:42:10.069400500Z"
    }
   }
  },
  {
   "cell_type": "code",
   "execution_count": 5,
   "outputs": [],
   "source": [
    "# 将img的batchsize变成100以重复100次预测\n",
    "img = img.unsqueeze(0).repeat(100,1,1,1).to(\"cuda:0\")\n",
    "predict, _ = model(img)\n",
    "# output_.append(softmax_output(output,schema.question_index_groups))\n",
    "# predict = torch.mean(torch.stack(output_), dim=0)"
   ],
   "metadata": {
    "collapsed": false,
    "ExecuteTime": {
     "end_time": "2023-05-16T06:54:28.347533700Z",
     "start_time": "2023-05-16T06:54:26.910603500Z"
    }
   }
  },
  {
   "cell_type": "code",
   "execution_count": 8,
   "outputs": [],
   "source": [
    "predict = softmax_output(predict,schema.question_index_groups)\n",
    "predict = torch.mean(predict, dim=0)"
   ],
   "metadata": {
    "collapsed": false,
    "ExecuteTime": {
     "end_time": "2023-05-16T06:55:20.672827100Z",
     "start_time": "2023-05-16T06:55:20.670096100Z"
    }
   }
  },
  {
   "cell_type": "code",
   "execution_count": 9,
   "outputs": [
    {
     "data": {
      "text/plain": "tensor([1.8776e-01, 8.1224e-01, 0.0000e+00, 1.0000e+00, 0.0000e+00, 1.0000e+00,\n        0.0000e+00, 9.6046e-02, 9.0395e-01, 0.0000e+00, 4.0164e-04, 8.7288e-03,\n        2.7191e-01, 7.1896e-01, 0.0000e+00, 4.1080e-01, 5.8920e-01, 0.0000e+00,\n        2.4650e-01, 7.5350e-01, 0.0000e+00, 7.3532e-01, 2.6468e-01, 0.0000e+00,\n        2.3337e-02, 3.5907e-01, 3.9032e-01, 1.6347e-01, 6.3808e-02, 0.0000e+00,\n        7.2410e-01, 2.2828e-01, 4.7621e-02, 0.0000e+00], device='cuda:0',\n       grad_fn=<MeanBackward1>)"
     },
     "execution_count": 9,
     "metadata": {},
     "output_type": "execute_result"
    }
   ],
   "source": [
    "predict"
   ],
   "metadata": {
    "collapsed": false,
    "ExecuteTime": {
     "end_time": "2023-05-16T06:55:25.932033600Z",
     "start_time": "2023-05-16T06:55:25.925033700Z"
    }
   }
  },
  {
   "cell_type": "code",
   "execution_count": 10,
   "outputs": [
    {
     "data": {
      "text/plain": "AdaptiveAvgPool2d(output_size=1)"
     },
     "execution_count": 10,
     "metadata": {},
     "output_type": "execute_result"
    }
   ],
   "source": [
    "target_layer = list(list(model.children())[0].children())[-2]\n",
    "target_layer"
   ],
   "metadata": {
    "collapsed": false
   }
  },
  {
   "cell_type": "markdown",
   "source": [],
   "metadata": {
    "collapsed": false
   }
  },
  {
   "cell_type": "code",
   "execution_count": null,
   "outputs": [],
   "source": [],
   "metadata": {
    "collapsed": false
   }
  }
 ],
 "metadata": {
  "kernelspec": {
   "display_name": "Python 3",
   "language": "python",
   "name": "python3"
  },
  "language_info": {
   "codemirror_mode": {
    "name": "ipython",
    "version": 2
   },
   "file_extension": ".py",
   "mimetype": "text/x-python",
   "name": "python",
   "nbconvert_exporter": "python",
   "pygments_lexer": "ipython2",
   "version": "2.7.6"
  }
 },
 "nbformat": 4,
 "nbformat_minor": 0
}
