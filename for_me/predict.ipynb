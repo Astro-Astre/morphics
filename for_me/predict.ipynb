{
 "cells": [
  {
   "cell_type": "code",
   "execution_count": 6,
   "outputs": [],
   "source": [
    "import torch\n",
    "import numpy as np"
   ],
   "metadata": {
    "collapsed": false,
    "ExecuteTime": {
     "start_time": "2023-05-15T22:42:39.088237Z",
     "end_time": "2023-05-15T22:42:39.095745Z"
    }
   }
  },
  {
   "cell_type": "code",
   "execution_count": 20,
   "outputs": [],
   "source": [
    "ex = torch.from_numpy(np.array([0.2,0.8]))"
   ],
   "metadata": {
    "collapsed": false,
    "ExecuteTime": {
     "start_time": "2023-05-15T22:45:37.296158Z",
     "end_time": "2023-05-15T22:45:37.340825Z"
    }
   }
  },
  {
   "cell_type": "code",
   "execution_count": 21,
   "outputs": [
    {
     "data": {
      "text/plain": "tensor([0.5498, 0.6900], dtype=torch.float64)"
     },
     "execution_count": 21,
     "metadata": {},
     "output_type": "execute_result"
    }
   ],
   "source": [
    "torch.sigmoid(ex)"
   ],
   "metadata": {
    "collapsed": false,
    "ExecuteTime": {
     "start_time": "2023-05-15T22:45:37.601667Z",
     "end_time": "2023-05-15T22:45:37.601667Z"
    }
   }
  },
  {
   "cell_type": "code",
   "execution_count": 22,
   "outputs": [
    {
     "data": {
      "text/plain": "tensor([0.3543, 0.6457], dtype=torch.float64)"
     },
     "execution_count": 22,
     "metadata": {},
     "output_type": "execute_result"
    }
   ],
   "source": [
    "torch.softmax(ex, dim=0)"
   ],
   "metadata": {
    "collapsed": false,
    "ExecuteTime": {
     "start_time": "2023-05-15T22:45:39.582240Z",
     "end_time": "2023-05-15T22:45:39.588744Z"
    }
   }
  },
  {
   "cell_type": "code",
   "execution_count": 23,
   "outputs": [],
   "source": [
    "%matplotlib inline\n",
    "import numpy as np\n",
    "import matplotlib.pyplot as plt\n",
    "import matplotlib.tri as tri\n",
    "\n",
    "#生成等边三角形\n",
    "corners = np.array([[0, 0], [1, 0], [0.5, 0.75**0.5]])\n",
    "triangle = tri.Triangulation(corners[:, 0], corners[:, 1])\n",
    "\n",
    "#每条边中点位置\n",
    "midpoints = [(corners[(i + 1) % 3] + corners[(i + 2) % 3]) / 2.0 for i in range(3)]\n",
    "\n",
    "def xy2bc(xy, tol=1.e-3):\n",
    "    #将三角形顶点的笛卡尔坐标映射到重心坐标系\n",
    "    s = [(corners[i] - midpoints[i]).dot(xy - midpoints[i]) / 0.75 for i in range(3)]\n",
    "    return np.clip(s, tol, 1.0 - tol)\n",
    "\n",
    "#有了重心坐标，可以计算Dirichlet概率密度函数的值\n",
    "class Dirichlet(object):\n",
    "\n",
    "    def __init__(self, alpha):\n",
    "        from math import gamma\n",
    "        from operator import mul\n",
    "        from functools import reduce\n",
    "        self._alpha = np.array(alpha)\n",
    "        self._coef = gamma(np.sum(self._alpha)) / reduce(mul, [gamma(a) for a in self._alpha]) #reduce:sequence连续使用function\n",
    "\n",
    "    def pdf(self, x):\n",
    "        #返回概率密度函数值\n",
    "        from operator import mul\n",
    "        from functools import reduce\n",
    "        return self._coef * reduce(mul, [xx ** (aa - 1) for (xx, aa)in zip(x, self._alpha)])\n",
    "\n",
    "def draw_pdf_contours(dist, nlevels=200, subdiv=8, **kwargs):\n",
    "    import math\n",
    "\n",
    "    #细分等边三角形网格\n",
    "    refiner = tri.UniformTriRefiner(triangle)\n",
    "    trimesh = refiner.refine_triangulation(subdiv=subdiv)\n",
    "    pvals = [dist.pdf(xy2bc(xy)) for xy in zip(trimesh.x, trimesh.y)]\n",
    "\n",
    "    plt.tricontourf(trimesh, pvals, nlevels, **kwargs)\n",
    "    plt.axis('equal')\n",
    "    plt.xlim(0, 1)\n",
    "    plt.ylim(0, 0.75**0.5)\n",
    "    plt.axis('off')"
   ],
   "metadata": {
    "collapsed": false,
    "ExecuteTime": {
     "start_time": "2023-05-15T23:02:35.558178Z",
     "end_time": "2023-05-15T23:02:35.849707Z"
    }
   }
  },
  {
   "cell_type": "code",
   "execution_count": 41,
   "outputs": [
    {
     "data": {
      "text/plain": "<Figure size 640x480 with 1 Axes>",
      "image/png": "[encoded data removed]"
     },
     "metadata": {},
     "output_type": "display_data"
    }
   ],
   "source": [
    "draw_pdf_contours(Dirichlet([20, 50, 50]))"
   ],
   "metadata": {
    "collapsed": false,
    "ExecuteTime": {
     "start_time": "2023-05-15T23:08:40.234179Z",
     "end_time": "2023-05-15T23:08:41.412971Z"
    }
   }
  },
  {
   "cell_type": "code",
   "execution_count": 1,
   "metadata": {
    "collapsed": true,
    "ExecuteTime": {
     "start_time": "2023-05-03T09:30:54.132514Z",
     "end_time": "2023-05-03T09:30:55.934501Z"
    }
   },
   "outputs": [],
   "source": [
    "# 制作数据集\n",
    "import sys\n",
    "import os\n",
    "root = \"/data/public/renhaoye/morphics/\"\n",
    "subdirs = [os.path.join(root, d) for d in os.listdir(root) if os.path.isdir(os.path.join(root, d))]\n",
    "for subdir in subdirs:\n",
    "    sys.path.append(subdir)\n",
    "import torch.nn as nn\n",
    "import torch\n",
    "import torch.nn.functional as F\n",
    "from dataset.galaxy_dataset import *\n",
    "from utils import schemas\n",
    "from utils.utils import *\n",
    "from models.utils import *\n",
    "import random\n",
    "from torch.backends import cudnn\n",
    "def init_rand_seed(rand_seed):\n",
    "    torch.manual_seed(rand_seed)\n",
    "    torch.cuda.manual_seed(rand_seed)  # 为当前GPU设置随机种子\n",
    "    torch.cuda.manual_seed_all(rand_seed)  # 为所有GPU设置随机种子\n",
    "    np.random.seed(rand_seed)\n",
    "    random.seed(rand_seed)\n",
    "    cudnn.benchmark = False\n",
    "    cudnn.deterministic = True\n",
    "init_rand_seed(1926)"
   ]
  },
  {
   "cell_type": "code",
   "execution_count": 6,
   "outputs": [
    {
     "data": {
      "text/plain": "torch.Size([3, 256, 256])"
     },
     "execution_count": 6,
     "metadata": {},
     "output_type": "execute_result"
    }
   ],
   "source": [
    "img = torch.Tensor(load_img(\"/data/public/renhaoye/morphics/dataset/in_decals/raw_fits/119.85429851358965_28.803799075693085.fits\"))\n",
    "model = torch.load(\"/data/public/renhaoye/morphics/pth_stn_atf/model_8.pt\", map_location=\"cuda:0\")\n",
    "img.shape"
   ],
   "metadata": {
    "collapsed": false,
    "ExecuteTime": {
     "start_time": "2023-05-03T13:46:49.954401Z",
     "end_time": "2023-05-03T13:46:50.609173Z"
    }
   }
  },
  {
   "cell_type": "code",
   "execution_count": 7,
   "outputs": [
    {
     "ename": "AssertionError",
     "evalue": "Threshold values must satisfy black < midtone < white for each channel",
     "output_type": "error",
     "traceback": [
      "\u001B[0;31m---------------------------------------------------------------------------\u001B[0m",
      "\u001B[0;31mAssertionError\u001B[0m                            Traceback (most recent call last)",
      "Cell \u001B[0;32mIn[7], line 1\u001B[0m\n\u001B[0;32m----> 1\u001B[0m predict, stn\u001B[38;5;241m=\u001B[39m \u001B[43mmodel\u001B[49m\u001B[43m(\u001B[49m\u001B[43mimg\u001B[49m\u001B[38;5;241;43m.\u001B[39;49m\u001B[43munsqueeze\u001B[49m\u001B[43m(\u001B[49m\u001B[38;5;241;43m0\u001B[39;49m\u001B[43m)\u001B[49m\u001B[38;5;241;43m.\u001B[39;49m\u001B[43mto\u001B[49m\u001B[43m(\u001B[49m\u001B[38;5;124;43m\"\u001B[39;49m\u001B[38;5;124;43mcuda:0\u001B[39;49m\u001B[38;5;124;43m\"\u001B[39;49m\u001B[43m)\u001B[49m\u001B[43m)\u001B[49m\n\u001B[1;32m      2\u001B[0m fits\u001B[38;5;241m.\u001B[39mwriteto(\u001B[38;5;124mf\u001B[39m\u001B[38;5;124m'\u001B[39m\u001B[38;5;124m/data/public/renhaoye/3.fits\u001B[39m\u001B[38;5;124m'\u001B[39m, stn[\u001B[38;5;241m0\u001B[39m]\u001B[38;5;241m.\u001B[39mcpu()\u001B[38;5;241m.\u001B[39mdetach()\u001B[38;5;241m.\u001B[39mnumpy(), overwrite\u001B[38;5;241m=\u001B[39m\u001B[38;5;28;01mTrue\u001B[39;00m)\n\u001B[1;32m      3\u001B[0m predict\n",
      "File \u001B[0;32m~/miniforge-pypy3/envs/daily/lib/python3.8/site-packages/torch/nn/modules/module.py:1501\u001B[0m, in \u001B[0;36mModule._call_impl\u001B[0;34m(self, *args, **kwargs)\u001B[0m\n\u001B[1;32m   1496\u001B[0m \u001B[38;5;66;03m# If we don't have any hooks, we want to skip the rest of the logic in\u001B[39;00m\n\u001B[1;32m   1497\u001B[0m \u001B[38;5;66;03m# this function, and just call forward.\u001B[39;00m\n\u001B[1;32m   1498\u001B[0m \u001B[38;5;28;01mif\u001B[39;00m \u001B[38;5;129;01mnot\u001B[39;00m (\u001B[38;5;28mself\u001B[39m\u001B[38;5;241m.\u001B[39m_backward_hooks \u001B[38;5;129;01mor\u001B[39;00m \u001B[38;5;28mself\u001B[39m\u001B[38;5;241m.\u001B[39m_backward_pre_hooks \u001B[38;5;129;01mor\u001B[39;00m \u001B[38;5;28mself\u001B[39m\u001B[38;5;241m.\u001B[39m_forward_hooks \u001B[38;5;129;01mor\u001B[39;00m \u001B[38;5;28mself\u001B[39m\u001B[38;5;241m.\u001B[39m_forward_pre_hooks\n\u001B[1;32m   1499\u001B[0m         \u001B[38;5;129;01mor\u001B[39;00m _global_backward_pre_hooks \u001B[38;5;129;01mor\u001B[39;00m _global_backward_hooks\n\u001B[1;32m   1500\u001B[0m         \u001B[38;5;129;01mor\u001B[39;00m _global_forward_hooks \u001B[38;5;129;01mor\u001B[39;00m _global_forward_pre_hooks):\n\u001B[0;32m-> 1501\u001B[0m     \u001B[38;5;28;01mreturn\u001B[39;00m \u001B[43mforward_call\u001B[49m\u001B[43m(\u001B[49m\u001B[38;5;241;43m*\u001B[39;49m\u001B[43margs\u001B[49m\u001B[43m,\u001B[49m\u001B[43m \u001B[49m\u001B[38;5;241;43m*\u001B[39;49m\u001B[38;5;241;43m*\u001B[39;49m\u001B[43mkwargs\u001B[49m\u001B[43m)\u001B[49m\n\u001B[1;32m   1502\u001B[0m \u001B[38;5;66;03m# Do not call functions when jit is used\u001B[39;00m\n\u001B[1;32m   1503\u001B[0m full_backward_hooks, non_full_backward_hooks \u001B[38;5;241m=\u001B[39m [], []\n",
      "File \u001B[0;32m/data/public/renhaoye/morphics/models/morphics.py:118\u001B[0m, in \u001B[0;36mMorphics.forward\u001B[0;34m(self, x)\u001B[0m\n\u001B[1;32m    115\u001B[0m \u001B[38;5;28;01mdef\u001B[39;00m \u001B[38;5;21mforward\u001B[39m(\u001B[38;5;28mself\u001B[39m, x):\n\u001B[1;32m    117\u001B[0m     atf \u001B[38;5;241m=\u001B[39m \u001B[38;5;28mself\u001B[39m\u001B[38;5;241m.\u001B[39mauto_stretch(x)\n\u001B[0;32m--> 118\u001B[0m     atfed \u001B[38;5;241m=\u001B[39m \u001B[43mmtf\u001B[49m\u001B[43m(\u001B[49m\u001B[43mx\u001B[49m\u001B[43m,\u001B[49m\u001B[43m \u001B[49m\u001B[43matf\u001B[49m\u001B[43m \u001B[49m\u001B[38;5;241;43m*\u001B[39;49m\u001B[38;5;241;43m65535\u001B[39;49m\u001B[43m)\u001B[49m\n\u001B[1;32m    119\u001B[0m     stn \u001B[38;5;241m=\u001B[39m \u001B[38;5;28mself\u001B[39m\u001B[38;5;241m.\u001B[39mspatial_transform(atfed) \u001B[38;5;241m/\u001B[39m \u001B[38;5;241m65535\u001B[39m\n\u001B[1;32m    120\u001B[0m     fits\u001B[38;5;241m.\u001B[39mwriteto(\u001B[38;5;124mf\u001B[39m\u001B[38;5;124m'\u001B[39m\u001B[38;5;124m/data/public/renhaoye/2.fits\u001B[39m\u001B[38;5;124m'\u001B[39m, stn[\u001B[38;5;241m0\u001B[39m]\u001B[38;5;241m.\u001B[39mcpu()\u001B[38;5;241m.\u001B[39mdetach()\u001B[38;5;241m.\u001B[39mnumpy(), overwrite\u001B[38;5;241m=\u001B[39m\u001B[38;5;28;01mTrue\u001B[39;00m)\n",
      "File \u001B[0;32m/data/public/renhaoye/morphics/models/morphics.py:31\u001B[0m, in \u001B[0;36mmtf\u001B[0;34m(img, mtf_m)\u001B[0m\n\u001B[1;32m     29\u001B[0m white \u001B[38;5;241m=\u001B[39m torch\u001B[38;5;241m.\u001B[39mones_like(black)\n\u001B[1;32m     30\u001B[0m \u001B[38;5;28;01mif\u001B[39;00m \u001B[38;5;28misinstance\u001B[39m(img, torch\u001B[38;5;241m.\u001B[39mTensor):\n\u001B[0;32m---> 31\u001B[0m     \u001B[38;5;28;01massert\u001B[39;00m torch\u001B[38;5;241m.\u001B[39mall(black \u001B[38;5;241m<\u001B[39m white), \u001B[38;5;124m\"\u001B[39m\u001B[38;5;124mThreshold values must satisfy black < midtone < white for each channel\u001B[39m\u001B[38;5;124m\"\u001B[39m\n\u001B[1;32m     32\u001B[0m     device \u001B[38;5;241m=\u001B[39m img\u001B[38;5;241m.\u001B[39mdevice\n\u001B[1;32m     33\u001B[0m     black, midtone, white \u001B[38;5;241m=\u001B[39m black\u001B[38;5;241m.\u001B[39mto(device)\u001B[38;5;241m.\u001B[39munsqueeze(\u001B[38;5;241m2\u001B[39m)\u001B[38;5;241m.\u001B[39munsqueeze(\u001B[38;5;241m3\u001B[39m), midtone\u001B[38;5;241m.\u001B[39mto(device)\u001B[38;5;241m.\u001B[39munsqueeze(\u001B[38;5;241m2\u001B[39m)\u001B[38;5;241m.\u001B[39munsqueeze(\n\u001B[1;32m     34\u001B[0m         \u001B[38;5;241m3\u001B[39m), white\u001B[38;5;241m.\u001B[39mto(device)\u001B[38;5;241m.\u001B[39munsqueeze(\u001B[38;5;241m2\u001B[39m)\u001B[38;5;241m.\u001B[39munsqueeze(\u001B[38;5;241m3\u001B[39m)\n",
      "\u001B[0;31mAssertionError\u001B[0m: Threshold values must satisfy black < midtone < white for each channel"
     ]
    }
   ],
   "source": [
    "predict, stn= model(img.unsqueeze(0).to(\"cuda:0\"))\n",
    "fits.writeto(f'/data/public/renhaoye/3.fits', stn[0].cpu().detach().numpy(), overwrite=True)\n",
    "predict"
   ],
   "metadata": {
    "collapsed": false,
    "ExecuteTime": {
     "start_time": "2023-05-03T09:25:33.220071Z",
     "end_time": "2023-05-03T09:25:34.420665Z"
    }
   }
  },
  {
   "cell_type": "code",
   "execution_count": 13,
   "outputs": [
    {
     "data": {
      "text/plain": "tensor([[ 0.0844,  1.2757, -1.5771, -1.3011,  1.3843,  0.9935, -0.6466, -0.7398,\n          0.2088,  0.6360, -2.7871, -1.2049,  1.1606,  1.4957, -0.9135, -0.5932,\n          1.0557, -0.6426, -1.2695, -0.1675,  0.6589,  0.4385,  0.0532, -0.5807,\n         -1.2494,  1.3543, -0.2603, -1.5440, -1.6508,  0.6221,  1.2070,  0.1339,\n         -0.6582, -0.8981]], device='cuda:1', grad_fn=<AddBackward0>)"
     },
     "execution_count": 13,
     "metadata": {},
     "output_type": "execute_result"
    }
   ],
   "source": [
    "predict"
   ],
   "metadata": {
    "collapsed": false,
    "ExecuteTime": {
     "start_time": "2023-04-21T16:22:07.002970Z",
     "end_time": "2023-04-21T16:22:07.018917Z"
    }
   }
  },
  {
   "cell_type": "code",
   "execution_count": 5,
   "outputs": [
    {
     "data": {
      "text/plain": "tensor([[ 31.8448,  69.1552,   0.0000, 100.0000,   0.0000, 100.0000,   0.0000,\n          27.1717,  73.8283,   0.0000,   1.3602,   3.5490,  37.4256,  60.6652,\n           0.0000,  35.5116,  65.4884,   0.0000,  20.1242,  80.8758,   0.0000,\n          66.2916,  34.7084,   0.0000,   5.4730,  65.6786,  23.3587,   7.1292,\n           2.3606,   0.0000,  75.2776,  19.6013,   7.1211,   0.0000]],\n       device='cuda:1', grad_fn=<CopySlices>)"
     },
     "execution_count": 5,
     "metadata": {},
     "output_type": "execute_result"
    }
   ],
   "source": [
    "question_answer_pairs = gz2_pairs\n",
    "dependencies = gz2_and_decals_dependencies\n",
    "schema = schemas.Schema(question_answer_pairs, dependencies)\n",
    "predict = softmax_output(predict,schema.question_index_groups)\n",
    "predict"
   ],
   "metadata": {
    "collapsed": false,
    "ExecuteTime": {
     "start_time": "2023-04-30T19:16:41.497972Z",
     "end_time": "2023-04-30T19:16:41.512121Z"
    }
   }
  },
  {
   "cell_type": "code",
   "execution_count": 14,
   "outputs": [
    {
     "data": {
      "text/plain": "tensor([[ 65.1867,  35.8133,   0.0000, 100.0000,   0.0000, 100.0000,   0.0000,\n          35.0699,  65.9301,   0.0000,   2.6829,  14.0444,  54.8705,  31.4022,\n           0.0000,  37.1452,  63.8548,   0.0000,  31.2852,  69.7148,   0.0000,\n          56.9487,  44.0513,   0.0000,   8.0504,  77.0389,  11.0540,   5.2938,\n           2.5629,   0.0000,  82.2877,  14.9244,   4.7879,   0.0000]],\n       device='cuda:1', grad_fn=<CopySlices>)"
     },
     "execution_count": 14,
     "metadata": {},
     "output_type": "execute_result"
    }
   ],
   "source": [
    "question_answer_pairs = gz2_pairs\n",
    "dependencies = gz2_and_decals_dependencies\n",
    "schema = schemas.Schema(question_answer_pairs, dependencies)\n",
    "predict = softmax_output(predict,schema.question_index_groups)\n",
    "predict"
   ],
   "metadata": {
    "collapsed": false,
    "ExecuteTime": {
     "start_time": "2023-04-30T00:13:31.836729Z",
     "end_time": "2023-04-30T00:13:31.856663Z"
    }
   }
  },
  {
   "cell_type": "code",
   "execution_count": 10,
   "outputs": [
    {
     "data": {
      "text/plain": "AdaptiveAvgPool2d(output_size=1)"
     },
     "execution_count": 10,
     "metadata": {},
     "output_type": "execute_result"
    }
   ],
   "source": [
    "target_layer = list(list(model.children())[0].children())[-2]\n",
    "target_layer"
   ],
   "metadata": {
    "collapsed": false
   }
  },
  {
   "cell_type": "markdown",
   "source": [],
   "metadata": {
    "collapsed": false
   }
  },
  {
   "cell_type": "code",
   "execution_count": 10,
   "outputs": [
    {
     "name": "stdout",
     "output_type": "stream",
     "text": [
      "Nonlinear function value at x = 0.5, y = 0.5: 0.6230088492905557\n"
     ]
    }
   ],
   "source": [
    "import numpy as np\n",
    "\n",
    "def nonlinear_function(x, y, T, degree=3):\n",
    "    \"\"\"\n",
    "    在0<x<1，0<y<1范围内的T个坐标与(0,0)和(1,1)这T+2个点之间的非线性函数f(x)\n",
    "\n",
    "    参数:\n",
    "        x: 输入点的横坐标\n",
    "        y: 输入点的纵坐标\n",
    "        T: 随机生成的点的数量\n",
    "        degree: 多项式的阶数，默认为3\n",
    "\n",
    "    返回值:\n",
    "        f(x): 对应于输入坐标的非线性函数值\n",
    "    \"\"\"\n",
    "    # 生成T个随机点\n",
    "    points = np.random.rand(T, 2)\n",
    "\n",
    "    # 在点集中添加(0, 0)和(1, 1)\n",
    "    points = np.vstack(([0, 0], points, [1, 1]))\n",
    "\n",
    "    # 计算多项式系数\n",
    "    coeff_x = np.polyfit(points[:, 0], points[:, 1], degree)\n",
    "\n",
    "    # 计算对应于输入x坐标的非线性函数值\n",
    "    f_x = np.polyval(coeff_x, x)\n",
    "\n",
    "    # 将函数值限制在[0, 1]范围内\n",
    "    f_x = np.clip(f_x, 0, 1)\n",
    "\n",
    "    return f_x\n",
    "\n",
    "# 示例用法\n",
    "x = 0.5\n",
    "y = 0.5\n",
    "T = 10\n",
    "\n",
    "f_x = nonlinear_function(x, y, T)\n",
    "print(f\"Nonlinear function value at x = {x}, y = {y}: {f_x}\")\n"
   ],
   "metadata": {
    "collapsed": false,
    "ExecuteTime": {
     "start_time": "2023-04-29T20:29:27.321223Z",
     "end_time": "2023-04-29T20:29:27.325209Z"
    }
   }
  },
  {
   "cell_type": "code",
   "execution_count": 11,
   "outputs": [
    {
     "data": {
      "text/plain": "<Figure size 640x480 with 1 Axes>",
      "image/png": "[encoded data removed]"
     },
     "metadata": {},
     "output_type": "display_data"
    }
   ],
   "source": [
    "import matplotlib.pyplot as plt\n",
    "%matplotlib inline\n",
    "plt.plot(np.linspace(0,1,100), nonlinear_function(np.linspace(0,1,100), 0.5, 10))\n",
    "plt.show()"
   ],
   "metadata": {
    "collapsed": false,
    "ExecuteTime": {
     "start_time": "2023-04-29T20:29:29.058897Z",
     "end_time": "2023-04-29T20:29:29.153581Z"
    }
   }
  },
  {
   "cell_type": "code",
   "execution_count": 3,
   "outputs": [],
   "source": [
    "import torch\n",
    "import numpy as np\n",
    "\n",
    "# 将Linear输出转换为12个点的集合\n",
    "def convert_to_points(linear_output):\n",
    "    points = []\n",
    "    for b in range(linear_output.size(0)):\n",
    "        batch_points = []\n",
    "        for i in range(0, linear_output.size(1), linear_output.size(1) // 6):\n",
    "            batch_points.append(torch.tensor([0, 0], dtype=torch.float32))\n",
    "            batch_points += [linear_output[b, i:i+2], linear_output[b, i+2:i+4], linear_output[b, i+4:i+6], linear_output[b, i+6:i+8], linear_output[b, i+8:i+10]]\n",
    "            batch_points.append(torch.tensor([1, 1], dtype=torch.float32))\n",
    "        points.append(torch.stack(batch_points))\n",
    "    return torch.stack(points)\n",
    "\n",
    "# 定义非线性拟合函数\n",
    "def nonlinear_function(x, points, degree=3):\n",
    "    points = points.cpu().numpy()\n",
    "    coeff_x = np.polyfit(points[:, 0], points[:, 1], degree)\n",
    "    f_x = np.polyval(coeff_x, x.cpu().numpy())\n",
    "    f_x = np.clip(f_x, 0, 1)\n",
    "    return torch.tensor(f_x, dtype=torch.float32, device=x.device)\n",
    "\n",
    "def apply_function_to_image(linear_output, input_image):\n",
    "    batch_size, channels, height, width = input_image.size()\n",
    "    points = convert_to_points(linear_output)\n",
    "\n",
    "    x = torch.linspace(0, 1, width).unsqueeze(0).unsqueeze(0).unsqueeze(0).to(input_image.device)\n",
    "    output_image = torch.zeros_like(input_image)\n",
    "    for b in range(batch_size):\n",
    "        for c in range(channels):\n",
    "            group_points = points[b][c*2:(c*2)+12]\n",
    "            y = nonlinear_function(x, group_points).unsqueeze(1)\n",
    "            output_image[b, c] = input_image[b, c] * y\n",
    "\n",
    "    return output_image\n",
    "\n",
    "# 示例输入\n",
    "linear_output = torch.rand(1, 66)\n",
    "# input_image = torch.rand(512, 3, 256, 256)\n",
    "input_image = img.unsqueeze(0)\n",
    "# 应用函数到图像\n",
    "output_image = apply_function_to_image(linear_output, input_image)\n"
   ],
   "metadata": {
    "collapsed": false,
    "ExecuteTime": {
     "start_time": "2023-04-30T02:03:47.458731Z",
     "end_time": "2023-04-30T02:03:47.477052Z"
    }
   }
  },
  {
   "cell_type": "code",
   "execution_count": 5,
   "outputs": [
    {
     "data": {
      "text/plain": "tensor([[[[ 7.5422e-04,  2.0905e-03, -1.1373e-03,  ..., -1.6273e-04,\n           -5.9762e-05,  7.8630e-04],\n          [ 1.7629e-03,  1.0456e-03, -3.5209e-05,  ..., -2.2789e-03,\n            9.4930e-04, -6.4479e-05],\n          [-7.7287e-04, -2.3586e-04,  1.0552e-04,  ...,  2.8536e-04,\n            2.6506e-03,  3.5948e-04],\n          ...,\n          [-3.5934e-03, -3.6421e-03, -4.2399e-04,  ..., -2.1828e-04,\n            4.4215e-03,  2.2618e-03],\n          [ 1.7267e-03,  1.6586e-04, -1.7890e-04,  ...,  5.7658e-04,\n            2.5369e-03,  2.4587e-03],\n          [ 6.6345e-04,  2.8804e-03,  8.3131e-04,  ...,  1.2552e-03,\n            3.8867e-04,  2.1466e-03]],\n\n         [[-8.8761e-04, -2.7739e-04, -1.6745e-03,  ...,  7.5591e-03,\n            6.1351e-03,  1.9137e-03],\n          [ 2.2184e-03,  1.3861e-03, -4.1506e-03,  ...,  8.5478e-04,\n            4.3388e-03, -1.4966e-03],\n          [ 1.9934e-05,  4.8925e-03,  5.0644e-03,  ..., -8.3532e-04,\n            2.9979e-03,  1.3901e-03],\n          ...,\n          [-2.1640e-03,  4.1585e-04, -1.4826e-03,  ...,  1.2843e-04,\n           -2.5285e-03,  1.3783e-03],\n          [-6.0447e-04,  4.8418e-03, -2.3120e-03,  ...,  5.5728e-03,\n           -3.8956e-04,  6.9578e-03],\n          [-6.7004e-03,  1.3740e-03, -7.4000e-03,  ...,  2.1577e-03,\n            3.9686e-03,  6.3760e-03]],\n\n         [[-1.2736e-02, -1.1959e-02, -9.5481e-04,  ..., -7.0826e-03,\n           -6.0445e-03, -2.2877e-03],\n          [-4.1084e-03, -8.0536e-03,  7.3808e-03,  ..., -3.4617e-03,\n           -2.1506e-03, -6.4928e-04],\n          [ 3.7708e-03,  8.1546e-03,  4.4919e-03,  ...,  9.7509e-03,\n           -7.6792e-03, -1.1819e-02],\n          ...,\n          [-1.1349e-02, -4.2481e-03, -2.2009e-03,  ..., -8.3109e-03,\n            6.4700e-03,  1.6941e-02],\n          [-1.6281e-02, -8.0880e-04,  1.5765e-03,  ..., -1.2410e-02,\n           -1.7059e-02,  7.2618e-03],\n          [-7.5740e-03,  1.1847e-02, -8.6251e-03,  ..., -5.6855e-03,\n           -7.7874e-03,  1.4303e-02]]]])"
     },
     "execution_count": 5,
     "metadata": {},
     "output_type": "execute_result"
    }
   ],
   "source": [
    "input_image"
   ],
   "metadata": {
    "collapsed": false,
    "ExecuteTime": {
     "start_time": "2023-04-30T02:03:56.775789Z",
     "end_time": "2023-04-30T02:03:56.818298Z"
    }
   }
  },
  {
   "cell_type": "code",
   "execution_count": 6,
   "outputs": [
    {
     "data": {
      "text/plain": "tensor([[[[ 1.1005e+01,  3.2454e+01, -1.8700e+01,  ..., -8.8541e+00,\n           -3.2779e+00,  4.3481e+01],\n          [ 2.5723e+01,  1.6233e+01, -5.7893e-01,  ..., -1.2399e+02,\n            5.2068e+01, -3.5656e+00],\n          [-1.1277e+01, -3.6616e+00,  1.7351e+00,  ...,  1.5526e+01,\n            1.4538e+02,  1.9879e+01],\n          ...,\n          [-5.2433e+01, -5.6541e+01, -6.9717e+00,  ..., -1.1877e+01,\n            2.4251e+02,  1.2507e+02],\n          [ 2.5195e+01,  2.5749e+00, -2.9417e+00,  ...,  3.1372e+01,\n            1.3915e+02,  1.3596e+02],\n          [ 9.6808e+00,  4.4717e+01,  1.3669e+01,  ...,  6.8294e+01,\n            2.1318e+01,  1.1870e+02]],\n\n         [[-1.9688e+01, -6.3809e+00, -3.9872e+01,  ...,  4.4000e+02,\n            3.6057e+02,  1.1358e+02],\n          [ 4.9206e+01,  3.1885e+01, -9.8831e+01,  ...,  4.9755e+01,\n            2.5500e+02, -8.8824e+01],\n          [ 4.4215e-01,  1.1254e+02,  1.2059e+02,  ..., -4.8622e+01,\n            1.7619e+02,  8.2503e+01],\n          ...,\n          [-4.8000e+01,  9.5659e+00, -3.5303e+01,  ...,  7.4758e+00,\n           -1.4860e+02,  8.1798e+01],\n          [-1.3408e+01,  1.1138e+02, -5.5051e+01,  ...,  3.2438e+02,\n           -2.2895e+01,  4.1294e+02],\n          [-1.4862e+02,  3.1607e+01, -1.7620e+02,  ...,  1.2559e+02,\n            2.3325e+02,  3.7841e+02]],\n\n         [[-1.8199e+02, -1.8736e+02, -1.6250e+01,  ..., -4.6416e+02,\n           -3.9613e+02, -1.4992e+02],\n          [-5.8706e+01, -1.2617e+02,  1.2561e+02,  ..., -2.2686e+02,\n           -1.4094e+02, -4.2550e+01],\n          [ 5.3882e+01,  1.2775e+02,  7.6447e+01,  ...,  6.3903e+02,\n           -5.0325e+02, -7.7455e+02],\n          ...,\n          [-1.6217e+02, -6.6551e+01, -3.7458e+01,  ..., -5.4465e+02,\n            4.2401e+02,  1.1102e+03],\n          [-2.3265e+02, -1.2671e+01,  2.6830e+01,  ..., -8.1330e+02,\n           -1.1179e+03,  4.7590e+02],\n          [-1.0823e+02,  1.8560e+02, -1.4679e+02,  ..., -3.7260e+02,\n           -5.1034e+02,  9.3733e+02]]]])"
     },
     "execution_count": 6,
     "metadata": {},
     "output_type": "execute_result"
    }
   ],
   "source": [
    "output_image*65535"
   ],
   "metadata": {
    "collapsed": false,
    "ExecuteTime": {
     "start_time": "2023-04-30T02:04:18.879237Z",
     "end_time": "2023-04-30T02:04:18.887731Z"
    }
   }
  },
  {
   "cell_type": "code",
   "execution_count": null,
   "outputs": [],
   "source": [],
   "metadata": {
    "collapsed": false
   }
  }
 ],
 "metadata": {
  "kernelspec": {
   "display_name": "Python 3",
   "language": "python",
   "name": "python3"
  },
  "language_info": {
   "codemirror_mode": {
    "name": "ipython",
    "version": 2
   },
   "file_extension": ".py",
   "mimetype": "text/x-python",
   "name": "python",
   "nbconvert_exporter": "python",
   "pygments_lexer": "ipython2",
   "version": "2.7.6"
  }
 },
 "nbformat": 4,
 "nbformat_minor": 0
}
