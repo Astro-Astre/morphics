{
 "cells": [
  {
   "cell_type": "code",
   "execution_count": 1,
   "outputs": [],
   "source": [
    "import matplotlib.pyplot as plt\n",
    "import matplotlib.tri as tri\n",
    "import torch\n",
    "import sys\n",
    "import os\n",
    "import numpy as np\n",
    "%matplotlib inline\n",
    "\n",
    "#生成等边三角形\n",
    "corners = np.array([[0, 0], [1, 0], [0.5, 0.75**0.5]])\n",
    "triangle = tri.Triangulation(corners[:, 0], corners[:, 1])\n",
    "#每条边中点位置\n",
    "midpoints = [(corners[(i + 1) % 3] + corners[(i + 2) % 3]) / 2.0 for i in range(3)]\n",
    "def xy2bc(xy, tol=1.e-3):\n",
    "    #将三角形顶点的笛卡尔坐标映射到重心坐标系\n",
    "    s = [(corners[i] - midpoints[i]).dot(xy - midpoints[i]) / 0.75 for i in range(3)]\n",
    "    return np.clip(s, tol, 1.0 - tol)\n",
    "#有了重心坐标，可以计算Dirichlet概率密度函数的值\n",
    "class Dirichlet(object):\n",
    "\n",
    "    def __init__(self, alpha):\n",
    "        from math import gamma\n",
    "        from operator import mul\n",
    "        from functools import reduce\n",
    "        self._alpha = np.array(alpha)\n",
    "        self._coef = gamma(np.sum(self._alpha)) / reduce(mul, [gamma(a) for a in self._alpha]) #reduce:sequence连续使用function\n",
    "\n",
    "    def pdf(self, x):\n",
    "        #返回概率密度函数值\n",
    "        from operator import mul\n",
    "        from functools import reduce\n",
    "        return self._coef * reduce(mul, [xx ** (aa - 1) for (xx, aa)in zip(x, self._alpha)])\n",
    "def draw_pdf_contours(dist, nlevels=200, subdiv=8, **kwargs):\n",
    "    import math\n",
    "\n",
    "    #细分等边三角形网格\n",
    "    refiner = tri.UniformTriRefiner(triangle)\n",
    "    trimesh = refiner.refine_triangulation(subdiv=subdiv)\n",
    "    pvals = [dist.pdf(xy2bc(xy)) for xy in zip(trimesh.x, trimesh.y)]\n",
    "\n",
    "    plt.tricontourf(trimesh, pvals, nlevels, **kwargs)\n",
    "    plt.axis('equal')\n",
    "    plt.xlim(0, 1)\n",
    "    plt.ylim(0, 0.75**0.5)\n",
    "    plt.axis('off')\n",
    "    # 制作数据集\n",
    "root = \"/data/public/renhaoye/morphics/\"\n",
    "subdirs = [os.path.join(root, d) for d in os.listdir(root) if os.path.isdir(os.path.join(root, d))]\n",
    "for subdir in subdirs:\n",
    "    sys.path.append(subdir)\n",
    "from dataset.galaxy_dataset import *\n",
    "from utils import schemas\n",
    "from utils.utils import *\n",
    "from models.utils import *\n",
    "import random\n",
    "from torch.backends import cudnn\n",
    "def init_rand_seed(rand_seed):\n",
    "    torch.manual_seed(rand_seed)\n",
    "    torch.cuda.manual_seed(rand_seed)  # 为当前GPU设置随机种子\n",
    "    torch.cuda.manual_seed_all(rand_seed)  # 为所有GPU设置随机种子\n",
    "    np.random.seed(rand_seed)\n",
    "    random.seed(rand_seed)\n",
    "    cudnn.benchmark = False\n",
    "    cudnn.deterministic = True\n",
    "init_rand_seed(1926)\n",
    "question_answer_pairs = gz2_pairs\n",
    "dependencies = gz2_and_decals_dependencies\n",
    "schema = schemas.Schema(question_answer_pairs, dependencies)"
   ],
   "metadata": {
    "collapsed": false,
    "ExecuteTime": {
     "end_time": "2023-05-16T14:24:04.916475Z",
     "start_time": "2023-05-16T14:24:02.892865100Z"
    }
   }
  },
  {
   "cell_type": "code",
   "execution_count": 23,
   "outputs": [],
   "source": [
    "img = torch.Tensor(load_img(\"/data/public/renhaoye/morphics/dataset/in_decals/agmtn/119.85429851358965_28.803799075693085.fits\"))\n",
    "# img = torch.Tensor(load_img(\"/data/public/renhaoye/1.fits\"))\n",
    "device = \"cuda:1\"\n",
    "model = torch.load(\"/data/public/renhaoye/morphics/pth/model_7.pt\", map_location=device)"
   ],
   "metadata": {
    "collapsed": false,
    "ExecuteTime": {
     "end_time": "2023-05-16T14:42:31.516831Z",
     "start_time": "2023-05-16T14:42:28.163015300Z"
    }
   }
  },
  {
   "cell_type": "code",
   "execution_count": 24,
   "outputs": [
    {
     "data": {
      "text/plain": "tensor([[6.5469e-02, 9.0383e-01, 3.0702e-02, 1.4356e-02, 9.8564e-01, 9.6272e-01,\n         3.7279e-02, 3.5844e-02, 2.5483e-01, 7.0933e-01, 4.6856e-04, 4.2918e-03,\n         2.0436e-01, 7.7056e-01, 2.0323e-02, 3.3501e-01, 6.2239e-01, 4.2596e-02,\n         6.7756e-02, 2.5931e-01, 6.7294e-01, 5.9973e-01, 3.3460e-01, 6.5678e-02,\n         1.3915e-02, 2.9976e-01, 2.5195e-01, 1.2044e-01, 4.1427e-02, 2.7251e-01,\n         6.1549e-01, 2.4472e-01, 8.8493e-02, 5.1292e-02]], device='cuda:1',\n       grad_fn=<CopySlices>)"
     },
     "execution_count": 24,
     "metadata": {},
     "output_type": "execute_result"
    }
   ],
   "source": [
    "predict, stn= model(img.unsqueeze(0).to(device))\n",
    "predicted = softmax_output(predict,schema.question_index_groups)\n",
    "fits.writeto(f'/data/public/renhaoye/pth.fits', stn[0].cpu().detach().numpy(), overwrite=True)\n",
    "predicted"
   ],
   "metadata": {
    "collapsed": false,
    "ExecuteTime": {
     "end_time": "2023-05-16T14:42:36.512074800Z",
     "start_time": "2023-05-16T14:42:36.406358700Z"
    }
   }
  },
  {
   "cell_type": "code",
   "execution_count": 25,
   "outputs": [
    {
     "name": "stdout",
     "output_type": "stream",
     "text": [
      "tensor(4.6946, device='cuda:1')\n",
      "tensor(4.5991, device='cuda:1')\n"
     ]
    }
   ],
   "source": [
    "def cal_total_data_uc(model, x, num_samples):\n",
    "    batch_size = 1\n",
    "    num_classes = 34\n",
    "    probs = torch.zeros(batch_size, num_classes, num_samples, device=x.device)\n",
    "    entropy = torch.zeros(batch_size, num_classes, num_samples, device=x.device)\n",
    "    for i in range(num_samples):\n",
    "        model.train()\n",
    "        with torch.no_grad():\n",
    "            output, _ = model(x)\n",
    "        prob = softmax_output(output,schema.question_index_groups)\n",
    "        probs[:, :, i] = prob\n",
    "        entropy[:, :, i] = -prob * torch.log(prob)\n",
    "    expected_probs = probs.mean(dim=2)\n",
    "    variance_probs = ((probs - expected_probs.unsqueeze(2))**2).mean(dim=2)\n",
    "    data_uc = entropy.mean(dim=2)\n",
    "    total_uc = -expected_probs * torch.log(expected_probs)\n",
    "    return total_uc, data_uc, variance_probs\n",
    "a, b, v = cal_total_data_uc(model, img.unsqueeze(0).to(device), 100)\n",
    "print(a.sum())\n",
    "print(b.sum())"
   ],
   "metadata": {
    "collapsed": false,
    "ExecuteTime": {
     "end_time": "2023-05-16T14:42:49.136073200Z",
     "start_time": "2023-05-16T14:42:46.683849300Z"
    }
   }
  },
  {
   "cell_type": "code",
   "execution_count": 21,
   "outputs": [
    {
     "name": "stdout",
     "output_type": "stream",
     "text": [
      "tensor(5.7741, device='cuda:1')\n",
      "tensor(5.6144, device='cuda:1')\n"
     ]
    }
   ],
   "source": [
    "a, b = cal_total_data_uc(model, img.unsqueeze(0).to(device), 100)\n",
    "print(a.sum())\n",
    "print(b.sum())"
   ],
   "metadata": {
    "collapsed": false,
    "ExecuteTime": {
     "end_time": "2023-05-16T14:39:09.075767800Z",
     "start_time": "2023-05-16T14:39:06.628469Z"
    }
   }
  },
  {
   "cell_type": "code",
   "execution_count": 26,
   "outputs": [
    {
     "data": {
      "text/plain": "tensor(0.0955, device='cuda:1')"
     },
     "execution_count": 26,
     "metadata": {},
     "output_type": "execute_result"
    }
   ],
   "source": [
    "a.sum()-b.sum()"
   ],
   "metadata": {
    "collapsed": false,
    "ExecuteTime": {
     "end_time": "2023-05-16T14:42:57.876364900Z",
     "start_time": "2023-05-16T14:42:57.850365100Z"
    }
   }
  },
  {
   "cell_type": "code",
   "execution_count": 34,
   "outputs": [
    {
     "data": {
      "text/plain": "tensor([[2.9112e-03, 1.2356e-02, 6.4185e-04, 4.1880e-03, 1.6154e-04, 3.3116e-02,\n         2.3260e-02, 1.6658e-03, 5.8825e-03, 7.0371e-04, 7.6591e-04, 1.9776e-03,\n         7.8146e-03, 7.8296e-03, 2.3421e-03, 1.7969e-02, 3.6734e-03, 2.4829e-03,\n         7.7283e-04, 3.4017e-03, 2.1174e-04, 4.4586e-03, 9.2777e-03, 6.3401e-03,\n         1.1938e-03, 6.5775e-03, 7.6583e-04, 1.6780e-04, 2.7347e-05, 2.5910e-03,\n         7.1472e-03, 1.6027e-02, 2.8804e-03, 1.6888e-03]], device='cuda:1')"
     },
     "execution_count": 34,
     "metadata": {},
     "output_type": "execute_result"
    }
   ],
   "source": [
    "a-b"
   ],
   "metadata": {
    "collapsed": false,
    "ExecuteTime": {
     "end_time": "2023-05-16T14:21:06.067384700Z",
     "start_time": "2023-05-16T14:21:06.021503300Z"
    }
   }
  },
  {
   "cell_type": "code",
   "execution_count": 7,
   "outputs": [],
   "source": [
    "output_ = []\n",
    "for mc_run in range(100):\n",
    "    output, _ = model(img.unsqueeze(0).to(device))\n",
    "    output_.append(softmax_output(output,schema.question_index_groups))\n",
    "predict = torch.mean(torch.stack(output_), dim=0)"
   ],
   "metadata": {
    "collapsed": false,
    "ExecuteTime": {
     "end_time": "2023-05-16T06:41:01.012886900Z",
     "start_time": "2023-05-16T06:40:46.289851800Z"
    }
   }
  },
  {
   "cell_type": "code",
   "execution_count": 8,
   "outputs": [
    {
     "data": {
      "text/plain": "tensor([[1.8373e-01, 8.1627e-01, 0.0000e+00, 1.0000e+00, 0.0000e+00, 1.0000e+00,\n         0.0000e+00, 9.4517e-02, 9.0548e-01, 0.0000e+00, 3.9221e-04, 8.5420e-03,\n         2.6249e-01, 7.2858e-01, 0.0000e+00, 4.3372e-01, 5.6628e-01, 0.0000e+00,\n         2.4300e-01, 7.5700e-01, 0.0000e+00, 7.3903e-01, 2.6097e-01, 0.0000e+00,\n         2.2968e-02, 3.4617e-01, 3.8609e-01, 1.7332e-01, 7.1457e-02, 0.0000e+00,\n         7.2108e-01, 2.3048e-01, 4.8438e-02, 0.0000e+00]], device='cuda:0',\n       grad_fn=<MeanBackward1>)"
     },
     "execution_count": 8,
     "metadata": {},
     "output_type": "execute_result"
    }
   ],
   "source": [
    "predict"
   ],
   "metadata": {
    "collapsed": false,
    "ExecuteTime": {
     "end_time": "2023-05-16T06:42:10.113366100Z",
     "start_time": "2023-05-16T06:42:10.069400500Z"
    }
   }
  },
  {
   "cell_type": "code",
   "execution_count": 5,
   "outputs": [],
   "source": [
    "# 将img的batchsize变成100以重复100次预测\n",
    "img = img.unsqueeze(0).repeat(100,1,1,1).to(device)\n",
    "predict, _ = model(img)\n",
    "# output_.append(softmax_output(output,schema.question_index_groups))\n",
    "# predict = torch.mean(torch.stack(output_), dim=0)"
   ],
   "metadata": {
    "collapsed": false,
    "ExecuteTime": {
     "end_time": "2023-05-16T06:54:28.347533700Z",
     "start_time": "2023-05-16T06:54:26.910603500Z"
    }
   }
  },
  {
   "cell_type": "code",
   "execution_count": 8,
   "outputs": [],
   "source": [
    "predict = softmax_output(predict,schema.question_index_groups)\n",
    "predict = torch.mean(predict, dim=0)"
   ],
   "metadata": {
    "collapsed": false,
    "ExecuteTime": {
     "end_time": "2023-05-16T06:55:20.672827100Z",
     "start_time": "2023-05-16T06:55:20.670096100Z"
    }
   }
  },
  {
   "cell_type": "code",
   "execution_count": 9,
   "outputs": [
    {
     "data": {
      "text/plain": "tensor([1.8776e-01, 8.1224e-01, 0.0000e+00, 1.0000e+00, 0.0000e+00, 1.0000e+00,\n        0.0000e+00, 9.6046e-02, 9.0395e-01, 0.0000e+00, 4.0164e-04, 8.7288e-03,\n        2.7191e-01, 7.1896e-01, 0.0000e+00, 4.1080e-01, 5.8920e-01, 0.0000e+00,\n        2.4650e-01, 7.5350e-01, 0.0000e+00, 7.3532e-01, 2.6468e-01, 0.0000e+00,\n        2.3337e-02, 3.5907e-01, 3.9032e-01, 1.6347e-01, 6.3808e-02, 0.0000e+00,\n        7.2410e-01, 2.2828e-01, 4.7621e-02, 0.0000e+00], device='cuda:0',\n       grad_fn=<MeanBackward1>)"
     },
     "execution_count": 9,
     "metadata": {},
     "output_type": "execute_result"
    }
   ],
   "source": [
    "predict"
   ],
   "metadata": {
    "collapsed": false,
    "ExecuteTime": {
     "end_time": "2023-05-16T06:55:25.932033600Z",
     "start_time": "2023-05-16T06:55:25.925033700Z"
    }
   }
  },
  {
   "cell_type": "code",
   "execution_count": 10,
   "outputs": [
    {
     "data": {
      "text/plain": "AdaptiveAvgPool2d(output_size=1)"
     },
     "execution_count": 10,
     "metadata": {},
     "output_type": "execute_result"
    }
   ],
   "source": [
    "target_layer = list(list(model.children())[0].children())[-2]\n",
    "target_layer"
   ],
   "metadata": {
    "collapsed": false
   }
  },
  {
   "cell_type": "markdown",
   "source": [],
   "metadata": {
    "collapsed": false
   }
  },
  {
   "cell_type": "code",
   "execution_count": null,
   "outputs": [],
   "source": [],
   "metadata": {
    "collapsed": false
   }
  }
 ],
 "metadata": {
  "kernelspec": {
   "display_name": "Python 3",
   "language": "python",
   "name": "python3"
  },
  "language_info": {
   "codemirror_mode": {
    "name": "ipython",
    "version": 2
   },
   "file_extension": ".py",
   "mimetype": "text/x-python",
   "name": "python",
   "nbconvert_exporter": "python",
   "pygments_lexer": "ipython2",
   "version": "2.7.6"
  }
 },
 "nbformat": 4,
 "nbformat_minor": 0
}
